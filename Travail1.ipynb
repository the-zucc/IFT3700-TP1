{
 "cells": [
  {
   "cell_type": "markdown",
   "metadata": {},
   "source": [
    "# Travail pratique 1 - IFT 3700\n",
    "##### Remis le 22 novembre 2020 par Rym Bach et Laurier Lavoie-Giasson\n",
    "## Introduction\n",
    "Dans le cadre de ce travail, on s'intéresse à la précision des différentes techniques de classification vues en classe, et de comparer son niveau en utilisant la distance euclidienne ainsi que [...]\n",
    "## Code\n",
    "### Installation des packages nécessaires"
   ]
  },
  {
   "cell_type": "code",
   "execution_count": 6,
   "metadata": {},
   "outputs": [
    {
     "name": "stdout",
     "output_type": "stream",
     "text": [
      "Requirement already satisfied: tqdm in c:\\users\\admin\\anaconda3\\lib\\site-packages (4.42.1)\n"
     ]
    }
   ],
   "source": [
    "import sys\n",
    "!{sys.executable} -m pip install tqdm"
   ]
  },
  {
   "cell_type": "markdown",
   "metadata": {},
   "source": [
    "### Chargement et prétraitement des jeux de données d'entraînement et de tests"
   ]
  },
  {
   "cell_type": "code",
   "execution_count": 7,
   "metadata": {},
   "outputs": [
    {
     "ename": "FileNotFoundError",
     "evalue": "[Errno 2] No such file or directory: 'mnist_train.csv'",
     "output_type": "error",
     "traceback": [
      "\u001b[1;31m---------------------------------------------------------------------------\u001b[0m",
      "\u001b[1;31mFileNotFoundError\u001b[0m                         Traceback (most recent call last)",
      "\u001b[1;32m<ipython-input-7-303162de78e3>\u001b[0m in \u001b[0;36m<module>\u001b[1;34m\u001b[0m\n\u001b[0;32m     39\u001b[0m     \u001b[1;32mreturn\u001b[0m \u001b[1;33m(\u001b[0m\u001b[0mpreprocessing\u001b[0m\u001b[1;33m(\u001b[0m\u001b[0mX\u001b[0m\u001b[1;33m,\u001b[0m \u001b[0mn_dimensions\u001b[0m\u001b[1;33m)\u001b[0m\u001b[1;33m,\u001b[0m\u001b[0mY\u001b[0m\u001b[1;33m)\u001b[0m\u001b[1;33m\u001b[0m\u001b[1;33m\u001b[0m\u001b[0m\n\u001b[0;32m     40\u001b[0m \u001b[1;33m\u001b[0m\u001b[0m\n\u001b[1;32m---> 41\u001b[1;33m \u001b[0mXY_train\u001b[0m \u001b[1;33m=\u001b[0m \u001b[0mreadMNIST\u001b[0m\u001b[1;33m(\u001b[0m\u001b[1;34m'mnist_train.csv'\u001b[0m\u001b[1;33m)\u001b[0m\u001b[1;33m\u001b[0m\u001b[1;33m\u001b[0m\u001b[0m\n\u001b[0m\u001b[0;32m     42\u001b[0m \u001b[0mX_train\u001b[0m \u001b[1;33m=\u001b[0m \u001b[0mXY_train\u001b[0m\u001b[1;33m[\u001b[0m\u001b[1;36m0\u001b[0m\u001b[1;33m]\u001b[0m\u001b[1;33m\u001b[0m\u001b[1;33m\u001b[0m\u001b[0m\n\u001b[0;32m     43\u001b[0m \u001b[0mY_train\u001b[0m \u001b[1;33m=\u001b[0m \u001b[0mXY_train\u001b[0m\u001b[1;33m[\u001b[0m\u001b[1;36m1\u001b[0m\u001b[1;33m]\u001b[0m\u001b[1;33m\u001b[0m\u001b[1;33m\u001b[0m\u001b[0m\n",
      "\u001b[1;32m<ipython-input-7-303162de78e3>\u001b[0m in \u001b[0;36mreadMNIST\u001b[1;34m(filename, n_dimensions)\u001b[0m\n\u001b[0;32m     23\u001b[0m     \u001b[1;31m#cette fonction lit le fichier de MNIST à l'emplacement fourni et retourne le jeu de\u001b[0m\u001b[1;33m\u001b[0m\u001b[1;33m\u001b[0m\u001b[1;33m\u001b[0m\u001b[0m\n\u001b[0;32m     24\u001b[0m     \u001b[1;31m#données sur lequel on a appliqué la fonction de prétraitement\u001b[0m\u001b[1;33m\u001b[0m\u001b[1;33m\u001b[0m\u001b[1;33m\u001b[0m\u001b[0m\n\u001b[1;32m---> 25\u001b[1;33m     \u001b[0mdata\u001b[0m \u001b[1;33m=\u001b[0m \u001b[0mopen\u001b[0m\u001b[1;33m(\u001b[0m\u001b[0mfilename\u001b[0m\u001b[1;33m)\u001b[0m\u001b[1;33m\u001b[0m\u001b[1;33m\u001b[0m\u001b[0m\n\u001b[0m\u001b[0;32m     26\u001b[0m     \u001b[0mcsv_file\u001b[0m \u001b[1;33m=\u001b[0m \u001b[0mcsv\u001b[0m\u001b[1;33m.\u001b[0m\u001b[0mreader\u001b[0m\u001b[1;33m(\u001b[0m\u001b[0mdata\u001b[0m\u001b[1;33m)\u001b[0m\u001b[1;33m\u001b[0m\u001b[1;33m\u001b[0m\u001b[0m\n\u001b[0;32m     27\u001b[0m     \u001b[0mdata_points\u001b[0m \u001b[1;33m=\u001b[0m \u001b[1;33m[\u001b[0m\u001b[0mrow\u001b[0m \u001b[1;32mfor\u001b[0m \u001b[0mrow\u001b[0m \u001b[1;32min\u001b[0m \u001b[0mcsv_file\u001b[0m\u001b[1;33m]\u001b[0m \u001b[1;31m#pour enlever les headers\u001b[0m\u001b[1;33m\u001b[0m\u001b[1;33m\u001b[0m\u001b[0m\n",
      "\u001b[1;31mFileNotFoundError\u001b[0m: [Errno 2] No such file or directory: 'mnist_train.csv'"
     ]
    }
   ],
   "source": [
    "%matplotlib inline\n",
    "import csv\n",
    "import numpy as np\n",
    "import matplotlib.pyplot as plt\n",
    "\n",
    "from tqdm import tqdm\n",
    "from sklearn.neighbors import KNeighborsClassifier\n",
    "from sklearn.cluster import KMeans\n",
    "from sklearn.metrics.pairwise import euclidean_distances\n",
    "from sklearn.decomposition import TruncatedSVD\n",
    "\n",
    "\n",
    "\n",
    "\n",
    "\n",
    "def preprocessing(X, n_dimensions=784):\n",
    "    #cette fonction sera utilisée pour le prétraitement des données du jeu de données.\n",
    "    #X doit être une matrice de taille (n,784)\n",
    "    \n",
    "    return np.array([np.round(np.divide(X[i], 255.0)) for i in tqdm(range(len(X))) ])\n",
    "    \n",
    "def readMNIST(filename, n_dimensions=784):\n",
    "    #cette fonction lit le fichier de MNIST à l'emplacement fourni et retourne le jeu de\n",
    "    #données sur lequel on a appliqué la fonction de prétraitement\n",
    "    data = open(filename)\n",
    "    csv_file = csv.reader(data)\n",
    "    data_points = [row for row in csv_file] #pour enlever les headers\n",
    "    data_points.pop(0)\n",
    "    #valeurs Y de taille 1 (labels)\n",
    "    print(\"Extraction des labels pour\", filename)\n",
    "    Y = np.array([int(data_points[i][0]) for i in tqdm(range(len(data_points)))])\n",
    "    \n",
    "    #vecteurs X de taille 784 (arrondis à l'entier le plus près)\n",
    "    print(\"Extraction des points de données pour\", filename)\n",
    "    X = np.array([[int(j) for j in data_points[i][1:]] for i in tqdm(range(len(data_points)))])\n",
    "    X = X.reshape((len(Y),784))\n",
    "    \n",
    "    #on retourne un tuple avec les vecteurs x et les valeurs y\n",
    "    return (preprocessing(X, n_dimensions),Y)\n",
    "\n",
    "XY_train = readMNIST('mnist_train.csv')\n",
    "X_train = XY_train[0]\n",
    "Y_train = XY_train[1]\n",
    "\n",
    "XY_test = readMNIST('mnist_test.csv')\n",
    "X_test = XY_test[0]\n",
    "Y_test = XY_test[1]"
   ]
  },
  {
   "cell_type": "markdown",
   "metadata": {},
   "source": [
    "### _Sanity Check_\n",
    "Ici on regarde si les données sont encore \"saines\", c'est à dire si on peut afficher la première lettre du jeu de données"
   ]
  },
  {
   "cell_type": "code",
   "execution_count": 3,
   "metadata": {},
   "outputs": [
    {
     "data": {
      "image/png": "[encoded data removed]",
      "text/plain": [
       "<Figure size 432x288 with 1 Axes>"
      ]
     },
     "metadata": {
      "needs_background": "light"
     },
     "output_type": "display_data"
    }
   ],
   "source": [
    "plt.imshow(X_train[0].reshape((28,28)), cmap=\"gray\")\n",
    "plt.show()"
   ]
  },
  {
   "cell_type": "markdown",
   "metadata": {},
   "source": [
    "On voit que la lettre apparait bel et bien, on peut donc considérer que le jeu de données a été correctement chargé\n",
    "### Classification en utilisant l'algorithme K-médoïdes\n",
    "\n",
    "\n",
    "L'algorithme des k-médoïdes est un algorithme de partitionnement plus robuste vis-à-vis des données aberrantes \n",
    " que celui des k-means , l'algorithme des k-médoïdes minimise l'erreur quadratique \n",
    "moyenne qui est la distance entre les points de la classe et le point central  on va \n",
    "donc l'appliquer sur nos donnees \n"
   ]
  },
  {
   "cell_type": "code",
   "execution_count": 3,
   "metadata": {},
   "outputs": [
    {
     "ename": "SyntaxError",
     "evalue": "invalid syntax (<ipython-input-3-9683f1308bae>, line 9)",
     "output_type": "error",
     "traceback": [
      "\u001b[1;36m  File \u001b[1;32m\"<ipython-input-3-9683f1308bae>\"\u001b[1;36m, line \u001b[1;32m9\u001b[0m\n\u001b[1;33m    def classify_fmedoide(X_train, Y_train):\u001b[0m\n\u001b[1;37m      ^\u001b[0m\n\u001b[1;31mSyntaxError\u001b[0m\u001b[1;31m:\u001b[0m invalid syntax\n"
     ]
    }
   ],
   "source": [
    "from sklearn.metrics import silhouette_score\n",
    "from sklearn.cluster import KMeans\n",
    "from pyclustering.cluster.kmedoids import kmedoids \n",
    "\n",
    "\n",
    " \n",
    "                      \n",
    "def classify_fmedoide(X_train, Y_train):\n",
    "    scores = []\n",
    "    k_range = range(2,15)\n",
    "    for k in k_range:\n",
    "        y_pred = KMeans(n_clusters=k).fit_predict(X_train)\n",
    "        scores.append(silhouette_score(X_train, y_pred))\n",
    "\n",
    "\n",
    "    plt.plot(k_range, scores)\n",
    "    plt.xlabel('k')\n",
    "    plt.ylabel('Score silhouette')\n",
    "    plt.title('Score silhouette en fonction de k')\n",
    "\n",
    "return np.array([k_range, scores])\n",
    "\n",
    "                      \n",
    "def kmedoide_Euclidienne () :               \n",
    "    MatrixDeucli = euclidean_distances(X_train)\n",
    "    tab =[0,1,2,3,4,5,6,7,8,9,10,11,12,13,14,15]\n",
    "    kmedoidseuclidienne = MatrixDeucli, tab, data_type='distance_matrix')\n",
    "    kmedoidseuclidienne.process()\n",
    "    euclidienne_medoids = kmedoidseuclidienne.get_medoids()\n",
    "    clusters_euclidienne = kmedoidseuclidienne.get_clusters()\n",
    "    \n",
    "return np.array([euclidienne_medoids,clusters_euclidienne])  \n",
    "\n",
    "                      \n",
    "def kmedoide_distance ()     :               \n",
    "    matrixSimi = np.array(copy.deepcopy(Y_train).astype(np.float64)\n",
    "    tab =[0,1,2,3,4,5,6,7,8,9,10,11,12,13,14,15]\n",
    "    kmedoidsdistance = kmedoids(matrixSimi, tab, data_type='distance_matrix')\n",
    "    kmedoidsdistance.process()\n",
    "    distancemedoids = kmedoidsdistance.get_medoids()\n",
    "    clustersdistance = kmedoidsdistance.get_clusters()\n",
    "    \n",
    "return np.array([kmedoidsdistance,clustersdistance]) \n",
    "\n",
    "\n",
    "\n",
    "\n",
    "\n",
    "\n"
   ]
  },
  {
   "cell_type": "code",
   "execution_count": 2,
   "metadata": {},
   "outputs": [],
   "source": [
    "### Classification en utilisant l'algorithme des K plus proches voisins"
   ]
  },
  {
   "cell_type": "code",
   "execution_count": 4,
   "metadata": {},
   "outputs": [
    {
     "ename": "NameError",
     "evalue": "name 'X_train' is not defined",
     "output_type": "error",
     "traceback": [
      "\u001b[1;31m---------------------------------------------------------------------------\u001b[0m",
      "\u001b[1;31mNameError\u001b[0m                                 Traceback (most recent call last)",
      "\u001b[1;32m<ipython-input-4-99af63c16762>\u001b[0m in \u001b[0;36m<module>\u001b[1;34m\u001b[0m\n\u001b[0;32m     65\u001b[0m \u001b[1;33m\u001b[0m\u001b[0m\n\u001b[0;32m     66\u001b[0m \u001b[1;33m\u001b[0m\u001b[0m\n\u001b[1;32m---> 67\u001b[1;33m \u001b[0mresultats_KNN\u001b[0m \u001b[1;33m=\u001b[0m \u001b[0mclassify_KNN\u001b[0m\u001b[1;33m(\u001b[0m\u001b[0mX_train\u001b[0m\u001b[1;33m,\u001b[0m \u001b[0mY_train\u001b[0m\u001b[1;33m,\u001b[0m \u001b[0mX_test\u001b[0m\u001b[1;33m,\u001b[0m \u001b[0mY_test\u001b[0m\u001b[1;33m,\u001b[0m \u001b[1;36m3\u001b[0m\u001b[1;33m,\u001b[0m \u001b[1;32mTrue\u001b[0m\u001b[1;33m)\u001b[0m\u001b[1;33m\u001b[0m\u001b[1;33m\u001b[0m\u001b[0m\n\u001b[0m\u001b[0;32m     68\u001b[0m \u001b[0mplt\u001b[0m\u001b[1;33m.\u001b[0m\u001b[0mplot\u001b[0m\u001b[1;33m(\u001b[0m\u001b[0mresultatsKNN\u001b[0m\u001b[1;33m[\u001b[0m\u001b[1;36m0\u001b[0m\u001b[1;33m]\u001b[0m\u001b[1;33m,\u001b[0m \u001b[0mresultatsKNN\u001b[0m\u001b[1;33m[\u001b[0m\u001b[1;36m1\u001b[0m\u001b[1;33m]\u001b[0m\u001b[1;33m)\u001b[0m\u001b[1;33m\u001b[0m\u001b[1;33m\u001b[0m\u001b[0m\n\u001b[0;32m     69\u001b[0m \u001b[0mplt\u001b[0m\u001b[1;33m.\u001b[0m\u001b[0mxlabel\u001b[0m\u001b[1;33m(\u001b[0m\u001b[1;34m'k'\u001b[0m\u001b[1;33m)\u001b[0m\u001b[1;33m\u001b[0m\u001b[1;33m\u001b[0m\u001b[0m\n",
      "\u001b[1;31mNameError\u001b[0m: name 'X_train' is not defined"
     ]
    }
   ],
   "source": [
    "from multiprocessing import Process\n",
    "from multiprocessing.sharedctypes import Array\n",
    "#on va utiliser ici du multi-processing pour travailler autour du GIL de Python,\n",
    "#on va démarrer plusieurs processus et travailler sur des variables partagées\n",
    "\n",
    "def fit_and_score(aX_train, aY_train, aX_test, aY_test, ak, aAccuracy_shared_array):\n",
    "    \n",
    "    classifier = KNeighborsClassifier(n_neighbors=ak)\n",
    "    classifier.fit(aX_train, aY_train)\n",
    "    return classifier.score(aX_test, aY_test)\n",
    "\n",
    "\n",
    "\n",
    "def classify_KNN(aX_train, aY_train, aX_test, aY_test, max_neighbors, multi_process=True):\n",
    "    if multi_process:\n",
    "        #on crée un tableau partagé de doubles \"primitifs\" de C pour les résultats\n",
    "        aX_train_shared=Array('d', aX_train.shape[0]*aX_train.shape[1])\n",
    "        #on le passe à Numpy pour utilisation à travers l'interface \"buffer\"\n",
    "        aX_train_mp=np.frombuffer(aX_train_shared.get_obj()).reshape(aX_train.shape)\n",
    "        #on copie les valeurs de l'argument dans le tableau partagé\n",
    "        np.copyto(aX_train_mp, aX_train)\n",
    "        \n",
    "        aY_train_shared=Array('d', aY_train.size)\n",
    "        aY_train_mp=np.frombuffer(aY_train_shared.get_obj())\n",
    "        np.copyto(aY_train_mp, aY_train)\n",
    "        \n",
    "        \n",
    "        aX_test_shared=Array('d', aX_test.shape[0]*aX_test.shape[1])\n",
    "        aX_test_mp=np.frombuffer(aX_test_shared.get_obj()).reshape(aX_test.shape)\n",
    "        np.copyto(aX_test_mp, aX_test)\n",
    "        \n",
    "        \n",
    "        aY_test_shared=Array('d', aY_test.size)\n",
    "        aY_test_mp=np.frombuffer(aY_test_shared.get_obj())\n",
    "        np.copyto(aY_test_mp, aY_test)\n",
    "        \n",
    "        \n",
    "        #on crée un tableau partagé de doubles \"primitifs\" de C pour la précision\n",
    "        accuracy_array = Array('d', max_neighbors)        \n",
    "        accuracy = np.frombuffer(accuracy_array.get_obj())\n",
    "        #on initialise les valeurs à zéro\n",
    "        np.copyto(accuracy, np.zeros(max_neighbors))\n",
    "        \n",
    "        \n",
    "        k_range = np.array(range(max_neighbors))\n",
    "        k_range = np.add(np.multiply(k_range, 2), 1)\n",
    "        processes = []\n",
    "        final_k_range = []\n",
    "        \n",
    "        for i in k_range:\n",
    "            if k % 2 != 0:\n",
    "                myprocess=Process(target=fit_and_score, args=(aX_train_mp, aY_train_mp, aX_test_mp, aY_test_mp, i+1, accuracy))\n",
    "                processes.append(myprocess)\n",
    "                myprocess.start()\n",
    "        for i in tqdm(range(len(processes))):\n",
    "            myprocess=processes[i]\n",
    "            myprocess.join()\n",
    "            del myprocess\n",
    "        return np.array([k_range, accuracy])\n",
    "    else:\n",
    "        classifier = KNeighborsClassifier(n_neighbors=1)\n",
    "        classifier.fit(aX_train, aY_train)\n",
    "        print(classifier.score(aX_test, aY_test))\n",
    "        #TODO changer ceci ASAP. Dois aller dormir lol\n",
    "        \n",
    "    \n",
    "resultats_KNN = classify_KNN(X_train, Y_train, X_test, Y_test, 3, True)\n",
    "plt.plot(resultatsKNN[0], resultatsKNN[1])\n",
    "plt.xlabel('k')\n",
    "plt.ylabel('Précision')\n",
    "plt.title('Précision de la classification en fonction de k');\n",
    "    "
   ]
  },
  {
   "cell_type": "code",
   "execution_count": null,
   "metadata": {},
   "outputs": [],
   "source": []
  }
 ],
 "metadata": {
  "kernelspec": {
   "display_name": "Python 3",
   "language": "python",
   "name": "python3"
  },
  "language_info": {
   "codemirror_mode": {
    "name": "ipython",
    "version": 3
   },
   "file_extension": ".py",
   "mimetype": "text/x-python",
   "name": "python",
   "nbconvert_exporter": "python",
   "pygments_lexer": "ipython3",
   "version": "3.7.6"
  }
 },
 "nbformat": 4,
 "nbformat_minor": 2
}
