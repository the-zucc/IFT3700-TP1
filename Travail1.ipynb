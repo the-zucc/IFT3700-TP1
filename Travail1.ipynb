{
 "cells": [
  {
   "cell_type": "markdown",
   "metadata": {},
   "source": [
    "# Travail pratique 1 - IFT 3700\n",
    "##### Remis le 22 novembre 2020 par Rym Bach et Laurier Lavoie-Giasson\n",
    "## Introduction\n",
    "Dans le cadre de ce travail, on s'intéresse à la précision des différentes techniques de classification vues en classe, et de comparer son niveau en utilisant la distance euclidienne ainsi que [...]\n",
    "## Code\n",
    "### Installation des packages nécessaires"
   ]
  },
  {
   "cell_type": "code",
   "execution_count": 11,
   "metadata": {},
   "outputs": [
    {
     "name": "stdout",
     "output_type": "stream",
     "text": [
      "Requirement already satisfied: tqdm in /home/laurier/.local/lib/python3.7/site-packages (4.51.0)\r\n"
     ]
    }
   ],
   "source": [
    "import sys\n",
    "!{sys.executable} -m pip install tqdm"
   ]
  },
  {
   "cell_type": "markdown",
   "metadata": {},
   "source": [
    "### Chargement et prétraitement des jeux de données d'entraînement et de tests"
   ]
  },
  {
   "cell_type": "code",
   "execution_count": 13,
   "metadata": {},
   "outputs": [
    {
     "name": "stderr",
     "output_type": "stream",
     "text": [
      "100%|██████████| 60000/60000 [00:00<00:00, 705850.36it/s]\n",
      "  1%|          | 347/60000 [00:00<00:17, 3458.22it/s]"
     ]
    },
    {
     "name": "stdout",
     "output_type": "stream",
     "text": [
      "Extraction des labels pour mnist_train.csv\n",
      "Extraction des points de données pour mnist_train.csv\n"
     ]
    },
    {
     "name": "stderr",
     "output_type": "stream",
     "text": [
      "100%|██████████| 60000/60000 [00:18<00:00, 3178.80it/s]\n",
      "100%|██████████| 60000/60000 [00:01<00:00, 39666.66it/s]\n",
      "100%|██████████| 10000/10000 [00:00<00:00, 734721.39it/s]\n",
      "  4%|▎         | 353/10000 [00:00<00:02, 3525.44it/s]"
     ]
    },
    {
     "name": "stdout",
     "output_type": "stream",
     "text": [
      "Extraction des labels pour mnist_test.csv\n",
      "Extraction des points de données pour mnist_test.csv\n"
     ]
    },
    {
     "name": "stderr",
     "output_type": "stream",
     "text": [
      "100%|██████████| 10000/10000 [00:02<00:00, 3345.63it/s]\n",
      "100%|██████████| 10000/10000 [00:00<00:00, 42798.63it/s]\n"
     ]
    }
   ],
   "source": [
    "%matplotlib inline\n",
    "import csv\n",
    "import numpy as np\n",
    "import matplotlib.pyplot as plt\n",
    "from tqdm import tqdm\n",
    "from sklearn.neighbors import KNeighborsClassifier\n",
    "from sklearn.cluster import KMeans\n",
    "from sklearn.metrics.pairwise import euclidean_distances\n",
    "from sklearn.decomposition import TruncatedSVD\n",
    "\n",
    "\n",
    "def preprocessing(X, n_dimensions=784):\n",
    "    #cette fonction sera utilisée pour le prétraitement des données du jeu de données.\n",
    "    #X doit être une matrice de taille (n,784)\n",
    "    \n",
    "    return np.array([np.round(np.divide(X[i], 255.0)) for i in tqdm(range(len(X))) ])\n",
    "    \n",
    "def readMNIST(filename, n_dimensions=784):\n",
    "    #cette fonction lit le fichier de MNIST à l'emplacement fourni et retourne le jeu de\n",
    "    #données sur lequel on a appliqué la fonction de prétraitement\n",
    "    data = open(filename)\n",
    "    csv_file = csv.reader(data)\n",
    "    data_points = [row for row in csv_file] #pour enlever les headers\n",
    "    data_points.pop(0)\n",
    "    #valeurs Y de taille 1 (labels)\n",
    "    print(\"Extraction des labels pour\", filename)\n",
    "    Y = np.array([int(data_points[i][0]) for i in tqdm(range(len(data_points)))])\n",
    "    \n",
    "    #vecteurs X de taille 784 (arrondis à l'entier le plus près)\n",
    "    print(\"Extraction des points de données pour\", filename)\n",
    "    X = np.array([[int(j) for j in data_points[i][1:]] for i in tqdm(range(len(data_points)))])\n",
    "    X = X.reshape((len(Y),784))\n",
    "    \n",
    "    #on retourne un tuple avec les vecteurs x et les valeurs y\n",
    "    return (preprocessing(X, n_dimensions),Y)\n",
    "\n",
    "XY_train = readMNIST('mnist_train.csv')\n",
    "X_train = XY_train[0]\n",
    "Y_train = XY_train[1]\n",
    "\n",
    "XY_test = readMNIST('mnist_test.csv')\n",
    "X_test = XY_test[0]\n",
    "Y_test = XY_test[1]"
   ]
  },
  {
   "cell_type": "markdown",
   "metadata": {},
   "source": [
    "### _Sanity Check_\n",
    "Ici on regarde si les données sont encore \"saines\", c'est à dire si on peut afficher la première lettre du jeu de données"
   ]
  },
  {
   "cell_type": "code",
   "execution_count": 14,
   "metadata": {},
   "outputs": [
    {
     "data": {
      "image/png": "[encoded data removed]",
      "text/plain": [
       "<Figure size 432x288 with 1 Axes>"
      ]
     },
     "metadata": {
      "needs_background": "light"
     },
     "output_type": "display_data"
    }
   ],
   "source": [
    "plt.imshow(X_train[0].reshape((28,28)), cmap=\"gray\")\n",
    "plt.show()"
   ]
  },
  {
   "cell_type": "markdown",
   "metadata": {},
   "source": [
    "On voit que la lettre apparait bel et bien, on peut donc considérer que le jeu de données a été correctement chargé"
   ]
  },
  {
   "cell_type": "markdown",
   "metadata": {},
   "source": [
    "### Classification en utilisant l'algorithme K-médoïdes"
   ]
  },
  {
   "cell_type": "code",
   "execution_count": null,
   "metadata": {},
   "outputs": [],
   "source": [
    "#TODO Classification KMeans\n",
    "#en utilisant plusieurs valeurs de K (8,9,10, 11, ...)\n",
    "#et en calculant le score silhouette à chaque valeur de K"
   ]
  },
  {
   "cell_type": "markdown",
   "metadata": {},
   "source": [
    "### Classification en utilisant l'algorithme des K plus proches voisins"
   ]
  },
  {
   "cell_type": "code",
   "execution_count": null,
   "metadata": {},
   "outputs": [],
   "source": [
    "#TODO Classification K-Nearest-Neighbors\n",
    "#en utilisant plusieurs valeurs de K\n",
    "def classifyKNN(aX_train, aY_train, aX_test, aY_train, max_neighbors)\n",
    "    accuracy=[]\n",
    "    \n",
    "    for i in tqdm(range(max_neighbors)):\n",
    "        classifier = KNeighborsClassifier(n_neighbors=(i+1))\n",
    "        classifier.fit(aX_train, aY_train)\n",
    "        accuracy.append((i,classifier.score(aX_test, aY_test)))\n",
    "    return accuracy\n",
    "\n",
    "for myTuple in classifyKNN:\n",
    "    print(myTuple)"
   ]
  },
  {
   "cell_type": "code",
   "execution_count": null,
   "metadata": {},
   "outputs": [],
   "source": []
  }
 ],
 "metadata": {
  "kernelspec": {
   "display_name": "Python 3",
   "language": "python",
   "name": "python3"
  },
  "language_info": {
   "codemirror_mode": {
    "name": "ipython",
    "version": 3
   },
   "file_extension": ".py",
   "mimetype": "text/x-python",
   "name": "python",
   "nbconvert_exporter": "python",
   "pygments_lexer": "ipython3",
   "version": "3.7.3"
  }
 },
 "nbformat": 4,
 "nbformat_minor": 2
}
