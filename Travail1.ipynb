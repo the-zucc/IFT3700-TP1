{
 "cells": [
  {
   "cell_type": "markdown",
   "metadata": {},
   "source": [
    "# Travail pratique 1 - IFT 3700\n",
    "##### Remis le 22 novembre 2020 par Rym Bach et Laurier Lavoie-Giasson\n",
    "## Introduction\n",
    "Dans le cadre de ce travail, on s'intéresse à la précision des différentes techniques de classification vues en classe, et de comparer son niveau en utilisant la distance euclidienne ainsi que [...]\n",
    "## Code\n",
    "### Installation des packages nécessaires"
   ]
  },
  {
   "cell_type": "code",
   "execution_count": 1,
   "metadata": {},
   "outputs": [
    {
     "name": "stdout",
     "output_type": "stream",
     "text": [
      "Defaulting to user installation because normal site-packages is not writeable\n",
      "Requirement already satisfied: matplotlib in /home/laurier/.local/lib/python3.8/site-packages (3.3.3)\n",
      "Requirement already satisfied: cycler>=0.10 in /home/laurier/.local/lib/python3.8/site-packages (from matplotlib) (0.10.0)\n",
      "Requirement already satisfied: kiwisolver>=1.0.1 in /home/laurier/.local/lib/python3.8/site-packages (from matplotlib) (1.3.1)\n",
      "Requirement already satisfied: pyparsing!=2.0.4,!=2.1.2,!=2.1.6,>=2.0.3 in /home/laurier/.local/lib/python3.8/site-packages (from matplotlib) (2.4.7)\n",
      "Requirement already satisfied: numpy>=1.15 in /home/laurier/.local/lib/python3.8/site-packages (from matplotlib) (1.19.4)\n",
      "Requirement already satisfied: pillow>=6.2.0 in /home/laurier/.local/lib/python3.8/site-packages (from matplotlib) (8.0.1)\n",
      "Requirement already satisfied: python-dateutil>=2.1 in /usr/lib/python3/dist-packages (from matplotlib) (2.7.3)\n",
      "Requirement already satisfied: six in /usr/lib/python3/dist-packages (from cycler>=0.10->matplotlib) (1.14.0)\n"
     ]
    }
   ],
   "source": [
    "import sys\n",
    "!{sys.executable} -m pip install matplotlib\n",
    "#!{sys.executable} -m pip install tqdm scikit-image"
   ]
  },
  {
   "cell_type": "markdown",
   "metadata": {},
   "source": [
    "### Chargement et prétraitement des jeux de données d'entraînement et de tests"
   ]
  },
  {
   "cell_type": "code",
   "execution_count": 2,
   "metadata": {},
   "outputs": [
    {
     "name": "stderr",
     "output_type": "stream",
     "text": [
      "100%|██████████| 60000/60000 [00:00<00:00, 2266966.70it/s]\n",
      "  2%|▏         | 1390/60000 [00:00<00:04, 13887.63it/s]"
     ]
    },
    {
     "name": "stdout",
     "output_type": "stream",
     "text": [
      "Extraction des labels pour mnist_train.csv\n",
      "Extraction des points de données pour mnist_train.csv\n"
     ]
    },
    {
     "name": "stderr",
     "output_type": "stream",
     "text": [
      "100%|██████████| 60000/60000 [00:04<00:00, 13074.67it/s]\n",
      "100%|██████████| 60000/60000 [00:00<00:00, 182887.57it/s]\n",
      "100%|██████████| 10000/10000 [00:00<00:00, 2315759.72it/s]\n",
      " 16%|█▌        | 1559/10000 [00:00<00:00, 15582.36it/s]"
     ]
    },
    {
     "name": "stdout",
     "output_type": "stream",
     "text": [
      "Extraction des labels pour mnist_test.csv\n",
      "Extraction des points de données pour mnist_test.csv\n"
     ]
    },
    {
     "name": "stderr",
     "output_type": "stream",
     "text": [
      "100%|██████████| 10000/10000 [00:00<00:00, 14707.83it/s]\n",
      "100%|██████████| 10000/10000 [00:00<00:00, 182842.79it/s]\n"
     ]
    }
   ],
   "source": [
    "%matplotlib inline\n",
    "import csv\n",
    "import numpy as np\n",
    "import matplotlib.pyplot as plt\n",
    "\n",
    "from tqdm import tqdm\n",
    "from sklearn.neighbors import KNeighborsClassifier\n",
    "from sklearn.cluster import KMeans\n",
    "from sklearn.metrics.pairwise import euclidean_distances\n",
    "from sklearn.decomposition import PCA\n",
    "\n",
    "CONST_N_DIM=784\n",
    "\n",
    "def preprocessing(aX, an_dimensions=CONST_N_DIM):\n",
    "    #cette fonction sera utilisée pour le prétraitement des données du jeu de données.\n",
    "    \n",
    "    ret_val = np.array([np.round(np.divide(aX[i], 255.0)) for i in tqdm(range(len(aX)))])\n",
    "    #application de PCA pour la réduction de dimensionalité\n",
    "    #pca = PCA(n_components=an_dimensions)\n",
    "    #ret_val = pca.fit_transform(X_rounded)\n",
    "    return ret_val\n",
    "    \n",
    "def readMNIST(afilename, an_dimensions=CONST_N_DIM):\n",
    "    #cette fonction lit le fichier de MNIST à l'emplacement fourni et retourne le jeu de\n",
    "    #données sur lequel on a appliqué la fonction de prétraitement\n",
    "    data = open(afilename)\n",
    "    csv_file = csv.reader(data)\n",
    "    data_points = [row for row in csv_file] #pour enlever les headers\n",
    "    data_points.pop(0)\n",
    "    #valeurs Y de taille 1 (labels)\n",
    "    print(\"Extraction des labels pour\", afilename)\n",
    "    Y = np.array([int(data_points[i][0]) for i in tqdm(range(len(data_points)))])\n",
    "    \n",
    "    #vecteurs X de taille 784 (arrondis à l'entier le plus près)\n",
    "    print(\"Extraction des points de données pour\", afilename)\n",
    "    X = np.array([[int(j) for j in data_points[i][1:]] for i in tqdm(range(len(data_points)))])\n",
    "    X = X.reshape((len(Y),784))\n",
    "    \n",
    "    #on retourne un tuple avec les vecteurs x et les valeurs y\n",
    "    return (preprocessing(X, an_dimensions),Y)\n",
    "\n",
    "XY_train = readMNIST('mnist_train.csv', CONST_N_DIM)\n",
    "X_train = XY_train[0]\n",
    "Y_train = XY_train[1]\n",
    "\n",
    "XY_test = readMNIST('mnist_test.csv', CONST_N_DIM)\n",
    "X_test = XY_test[0]\n",
    "Y_test = XY_test[1]"
   ]
  },
  {
   "cell_type": "markdown",
   "metadata": {},
   "source": [
    "### _Sanity Check_\n",
    "Ici on regarde si les données sont encore \"saines\", c'est à dire si on peut afficher la première lettre du jeu de données"
   ]
  },
  {
   "cell_type": "code",
   "execution_count": 3,
   "metadata": {},
   "outputs": [
    {
     "data": {
      "image/png": "[encoded data removed]",
      "text/plain": [
       "<Figure size 432x288 with 1 Axes>"
      ]
     },
     "metadata": {
      "needs_background": "light"
     },
     "output_type": "display_data"
    }
   ],
   "source": [
    "plt.imshow(X_train[0].reshape((28,28)), cmap=\"gray\")\n",
    "plt.show()"
   ]
  },
  {
   "cell_type": "markdown",
   "metadata": {},
   "source": [
    "### Mise en place de la métrique à utiliser\n",
    "\n",
    "Soit $X = \\begin{pmatrix}x_{11} & ... & x_{1n}\\\\ ... & ... & ... \\\\ x_{n1} & ... & x_{nn}\\end{pmatrix}$, le caractère en question. On calculera d'abord $M_{00}, M_{01}$ et $M_{10}$.\n",
    "\n",
    "\\begin{align}\n",
    "    M_{ij} = \\sum_{k=1}^{d_1}\\sum_{\\ell}^{d_2}x_{k\\ell}k^i\\cdot\\ell^j\n",
    "\\end{align}\n",
    "\n",
    "On calculera alors le centroïde de l'image $\\{\\bar{x},\\bar{y}\\} = \\{\\frac{M_{10}}{M_{00}}, \\frac{M_{01}}{M_{00}}\\}$, suivi des moments centraux $\\mu_{00}, \\mu_{20}, \\mu_{02}, \\mu_{11}, \\mu_{30}, \\mu_{03}, \\mu_{21}$ et $\\mu_{12}$\n",
    "\n",
    "\\begin{align}\n",
    "    \\mu_{ij} = \\sum_{k=1}^{d_1}\\sum_{\\ell=1}^{d_2}x_{k\\ell}\\cdot(k-\\bar{x})^i\\cdot(\\ell−\\bar{y})^j)\n",
    "\\end{align}\n",
    "\n",
    "Pour finir, on calculera la similarité des points en comparant la distance euclidienne entre les vecteurs contenant leurs moments invariants $\\eta_{20}, \\eta_{02}, \\eta_{11}, \\eta_{30}, \\eta_{03}, \\eta_{21}$ et $\\eta_{12}$.\n",
    "\n",
    "\\begin{align}\n",
    "    \\eta_{ij} = \\frac{\\mu_{ij}}{\\mu_{00}^{(1+\\frac{i+j}{2})}}\n",
    "\\end{align}"
   ]
  },
  {
   "cell_type": "code",
   "execution_count": 4,
   "metadata": {},
   "outputs": [
    {
     "name": "stdout",
     "output_type": "stream",
     "text": [
      "[[1.  1.5 2.  2.5]\n",
      " [1.5 2.  2.5 3. ]\n",
      " [2.  2.5 3.  3.5]\n",
      " [2.5 3.  3.5 4. ]]\n"
     ]
    }
   ],
   "source": [
    "from skimage.measure import moments, moments_central\n",
    "\n",
    "#matrice des exposants à appliquer à mu00, pour accélérer les calculs en les faisant faire en série par Numpy\n",
    "muij_exponents=np.array([[1+(i+j)/2.0 for j in range(4)] for i in range(4)])\n",
    "print(muij_exponents)\n",
    "\n",
    "#matrice des facteurs de eta_ij, pour enlever les valeurs \"non désirées\" à la matrice \"finale\" des eta_ij\n",
    "eta_ij_selected=np.array([\n",
    "    [0,0,1,1],\n",
    "    [0,1,1,0],\n",
    "    [1,1,0,0],\n",
    "    [1,0,0,0]\n",
    "])\n",
    "\n",
    "#fonction qui calcule eta_ij pour un vecteur X de taille 784 donné\n",
    "def compute_eta_ij(ax):\n",
    "    x = ax.reshape((28,28))\n",
    "    m = moments(x)\n",
    "    centroid = (m[1,0]/m[0,0], m[0,1]/m[0,0])\n",
    "    mu = moments_central(x, centroid)\n",
    "    #print(mu[0,0])\n",
    "    #on multiplie par eta_ij_selected, pour soustraire les valeurs nécessaires\n",
    "    eta = np.multiply(mu, np.power(mu[0,0], muij_exponents))\n",
    "    return np.array([eta[2,0], eta[0,2], eta[1,1], eta[3,0], eta[0,3], eta[2,1], eta[1,2]])\n",
    "\n",
    "#on définit la fonction de similarité à utiliser\n",
    "def moment_distance(ax_1, ax_2):\n",
    "    return np.linalg.norm(compute_eta_ij(ax_1)-compute_eta_ij(ax_2))"
   ]
  },
  {
   "cell_type": "markdown",
   "metadata": {},
   "source": [
    "### Inconvénient lors de l'utilisation de cette métrique de façon conventionnelle - Complexité\n",
    "En ne faisant que spécifier la métrique dans le contructeur des différents classificateurs, on augmente drastiquement la complexité. En effet, pour les $n^2$ paires de points, pour calculer la matrice des distances entre, on effectue 1 appel de la fonction compute_eta_ij par point, pour un total de 2n^2. Comme la matrice est symétrique, on peut considérer que l'on appelle $n^2$ fois la fonction. Cependant, la complexité du calcul des $\\eta_{ij}$ est bien plus grande que celle de la distance euclidienne! Il convient donc d'adapter la méthode de calcul pour réduire la complexité.\n",
    "\n",
    "### Solution - _precomputation_\n",
    "Évidemment, une fois que l'on a exécuté compute_eta_ij pour un point du jeu de données, on peut stocker la valeur de retour dans une liste. Puisque la métrique proposée utilise la distance euclidienne à l'intérieur, on peut donc simplement faire un précalcul des $\\eta_{ij}$ nécessaires pour la métrique, et les stocker dans une liste. Cela nous permettra de classifier le jeu de données de la même façon que l'on l'aurait fait dans le jeu de données d'origine.\n",
    "\n",
    "Par contre, pour pouvoir classer une donnée, on devra d'abord effectuer la transformation pour obtenir les $\\eta_{ij}$.\n",
    "\n",
    "La cellule ci-dessous effectue le précalcul nécessaire à la métrique."
   ]
  },
  {
   "cell_type": "code",
   "execution_count": 5,
   "metadata": {
    "scrolled": true
   },
   "outputs": [
    {
     "name": "stderr",
     "output_type": "stream",
     "text": [
      "  5%|▌         | 3032/60000 [00:00<00:03, 14966.12it/s]"
     ]
    },
    {
     "name": "stdout",
     "output_type": "stream",
     "text": [
      "précalcul des eta_ij pour le jeu de données d'entraînement\n"
     ]
    },
    {
     "name": "stderr",
     "output_type": "stream",
     "text": [
      "100%|██████████| 60000/60000 [00:03<00:00, 15490.35it/s]\n",
      " 16%|█▌        | 1555/10000 [00:00<00:00, 15540.71it/s]"
     ]
    },
    {
     "name": "stdout",
     "output_type": "stream",
     "text": [
      "précalcul des eta_ij pour le jeu de données de tests\n"
     ]
    },
    {
     "name": "stderr",
     "output_type": "stream",
     "text": [
      "100%|██████████| 10000/10000 [00:00<00:00, 15385.07it/s]\n"
     ]
    }
   ],
   "source": [
    "def precompute_eta_ij(aX):\n",
    "    return np.array([compute_eta_ij(x) for x in tqdm(aX)])\n",
    "\n",
    "print(\"précalcul des eta_ij pour le jeu de données d'entraînement\")\n",
    "X_train_etaij = precompute_eta_ij(X_train)\n",
    "print(\"précalcul des eta_ij pour le jeu de données de tests\")\n",
    "X_test_etaij = precompute_eta_ij(X_test)"
   ]
  },
  {
   "cell_type": "markdown",
   "metadata": {},
   "source": [
    "### Classification en utilisant l'algorithme K-médoïdes\n",
    "\n",
    "\n",
    "L'algorithme des k-médoïdes est un algorithme de partitionnement plus robuste vis-à-vis des données aberrantes que celui des k-moyennes. L'algorithme des k-médoïdes minimise l'erreur quadratique moyenne qui est la distance entre les points de la classe et le point central, qui est un point du jeu de données. On va donc l'appliquer sur nos données "
   ]
  },
  {
   "cell_type": "code",
   "execution_count": 17,
   "metadata": {},
   "outputs": [
    {
     "ename": "SyntaxError",
     "evalue": "invalid syntax (<ipython-input-17-61990fb90dde>, line 36)",
     "output_type": "error",
     "traceback": [
      "\u001b[0;36m  File \u001b[0;32m\"<ipython-input-17-61990fb90dde>\"\u001b[0;36m, line \u001b[0;32m36\u001b[0m\n\u001b[0;31m    tab =[0,1,2,3,4,5,6,7,8,9,10,11,12,13,14,15]\u001b[0m\n\u001b[0m    ^\u001b[0m\n\u001b[0;31mSyntaxError\u001b[0m\u001b[0;31m:\u001b[0m invalid syntax\n"
     ]
    }
   ],
   "source": [
    "from sklearn.metrics import silhouette_score\n",
    "from sklearn.cluster import KMeans\n",
    "from pyclustering.cluster.kmedoids import kmedoids \n",
    "\n",
    "\n",
    " \n",
    "#cette méthode utilisée pour classifier les données est la bonne. Il faut \n",
    "def classify_fmedoide(X_train, Y_train):\n",
    "    scores = []\n",
    "    k_range = range(2,15)\n",
    "    for k in k_range:\n",
    "        y_pred = KMeans(n_clusters=k).fit_predict(X_train)\n",
    "        scores.append(silhouette_score(X_train, y_pred))\n",
    "\n",
    "    plt.plot(k_range, scores)\n",
    "    plt.xlabel('k')\n",
    "    plt.ylabel('Score silhouette')\n",
    "    plt.title('Score silhouette en fonction de k')\n",
    "\n",
    "return np.array([k_range, scores])\n",
    "\n",
    "#cette fonction ne semble pas nécessaire\n",
    "def kmedoide_Euclidienne () :               \n",
    "    MatrixDeucli = euclidean_distances(X_train)\n",
    "    tab =[0,1,2,3,4,5,6,7,8,9,10,11,12,13,14,15]\n",
    "    #kmedoidseuclidienne = MatrixDeucli, tab, data_type='distance_matrix')\n",
    "    kmedoidseuclidienne.process()\n",
    "    euclidienne_medoids = kmedoidseuclidienne.get_medoids()\n",
    "    clusters_euclidienne = kmedoidseuclidienne.get_clusters()\n",
    "    #j'ai réindenté ceci pour que ça \"compile\"fonctionne bien\n",
    "    return np.array([euclidienne_medoids,clusters_euclidienne])  \n",
    "\n",
    "#cette fonction n'est pas nécessaire non plus\n",
    "def kmedoide_distance ()     :               \n",
    "    matrixSimi = np.array(copy.deepcopy(Y_train).astype(np.float64)\n",
    "    tab =[0,1,2,3,4,5,6,7,8,9,10,11,12,13,14,15]\n",
    "    kmedoidsdistance = kmedoids(matrixSimi, tab, data_type='distance_matrix')\n",
    "    kmedoidsdistance.process()\n",
    "    distancemedoids = kmedoidsdistance.get_medoids()\n",
    "    clustersdistance = kmedoidsdistance.get_clusters()\n",
    "    #réindentation ici aussi\n",
    "    return np.array([kmedoidsdistance,clustersdistance]) \n",
    "\n",
    "#le travail n'est pas d'implémenter les algorithmes de classification, c'est plutôt d'utiliser ce que\n",
    "#scikit-learn fournit de pré-construit pour pouvoir faire abstraction de l'algorithme (de présumer que\n",
    "#l'algorithme fonctionnera, sans se poser de question sur les technicalités de ce qui se passe derrière).\n",
    "#essaie de regarder des exemples de classification avec KMeans de scikit-learn sur Internet, ça devrait t'aider"
   ]
  },
  {
   "cell_type": "markdown",
   "metadata": {},
   "source": [
    "### Classification en utilisant l'algorithme des K plus proches voisins\n",
    "\n",
    "Ici, pour accélérer le temps de calcul, on utilise le module `multiprocessing`. On démarre des processus pour ne pas être limité par le _Global Interpreter Lock_ de Python."
   ]
  },
  {
   "cell_type": "code",
   "execution_count": 15,
   "metadata": {},
   "outputs": [
    {
     "name": "stderr",
     "output_type": "stream",
     "text": [
      "100%|██████████| 7/7 [02:43<00:00, 23.40s/it] \n"
     ]
    }
   ],
   "source": [
    "from multiprocessing import Process\n",
    "from multiprocessing.sharedctypes import Array\n",
    "import math\n",
    "#on va utiliser ici du multi-processing pour travailler autour du GIL de Python,\n",
    "#on va démarrer plusieurs processus et travailler sur des variables partagées\n",
    "\n",
    "def fit_and_score(aX_train, aY_train, aX_test, aY_test, ak, aAccuracy_shared_array):\n",
    "    classifier = KNeighborsClassifier(n_neighbors=ak)\n",
    "    classifier.fit(aX_train, aY_train)\n",
    "    aAccuracy_shared_array[ak] = classifier.score(aX_test, aY_test)\n",
    "    return aAccuracy_shared_array[ak]\n",
    "\n",
    "def classify_KNN(aX_train, aY_train, aX_test, aY_test, max_neighbors, multi_process=True):\n",
    "    if multi_process:\n",
    "        #on crée un tableau partagé de doubles \"primitifs\" de C pour les résultats\n",
    "        aX_train_shared=Array('d', aX_train.shape[0]*aX_train.shape[1])\n",
    "        #on le passe à Numpy pour utilisation à travers l'interface \"buffer\"\n",
    "        aX_train_mp=np.frombuffer(aX_train_shared.get_obj()).reshape(aX_train.shape)\n",
    "        #on copie les valeurs de l'argument dans le tableau partagé\n",
    "        np.copyto(aX_train_mp, aX_train)\n",
    "        \n",
    "        aY_train_shared=Array('d', aY_train.size)\n",
    "        aY_train_mp=np.frombuffer(aY_train_shared.get_obj())\n",
    "        np.copyto(aY_train_mp, aY_train)\n",
    "        \n",
    "        \n",
    "        aX_test_shared=Array('d', aX_test.shape[0]*aX_test.shape[1])\n",
    "        aX_test_mp=np.frombuffer(aX_test_shared.get_obj()).reshape(aX_test.shape)\n",
    "        np.copyto(aX_test_mp, aX_test)\n",
    "        \n",
    "        \n",
    "        aY_test_shared=Array('d', aY_test.size)\n",
    "        aY_test_mp=np.frombuffer(aY_test_shared.get_obj())\n",
    "        np.copyto(aY_test_mp, aY_test)\n",
    "        \n",
    "        #initialisation des K impairs\n",
    "        k_range = range(max_neighbors)\n",
    "        \n",
    "        #on crée un tableau partagé de doubles \"primitifs\" de C pour stocker la précision des modèles\n",
    "        accuracy_array = Array('d', len(k_range))\n",
    "        accuracy = np.frombuffer(accuracy_array.get_obj())\n",
    "        #on initialise les valeurs à zéro\n",
    "        np.copyto(accuracy, np.zeros(len(k_range)))\n",
    "        \n",
    "        processes = []\n",
    "        \n",
    "        for k in k_range:\n",
    "            if k % 2 != 0:\n",
    "                #spawn un processus pour calculer, qui lira la mémoire partagée\n",
    "                myprocess=Process(target=fit_and_score, args=(aX_train_mp, aY_train_mp, aX_test_mp, aY_test_mp, k, accuracy))\n",
    "                processes.append(myprocess)\n",
    "                myprocess.start()\n",
    "        for i in tqdm(range(len(processes))):\n",
    "            myprocess=processes[i]\n",
    "            #join le processus pour arrêter l'exécution jusqu'à temps que les calculs soient terminés\n",
    "            myprocess.join()\n",
    "            del myprocess\n",
    "        #retourner les paires de K et de précision\n",
    "        return np.array([np.array(k_range), accuracy])\n",
    "    else:\n",
    "        for k in range(max_neighbors):\n",
    "            if k % 2 != 0:\n",
    "                classifier = KNeighborsClassifier(n_neighbors=1)\n",
    "                classifier.fit(aX_train, aY_train)\n",
    "                print(classifier.score(aX_test, aY_test))\n",
    "        \n",
    "\n",
    "resultats_KNN = classify_KNN(X_train[1:10000], Y_train[1:10000], X_test[1:10000], Y_test[1:10000], 15, True)"
   ]
  },
  {
   "cell_type": "code",
   "execution_count": 20,
   "metadata": {},
   "outputs": [
    {
     "data": {
      "image/png": "[encoded data removed]",
      "text/plain": [
       "<Figure size 432x288 with 1 Axes>"
      ]
     },
     "metadata": {
      "needs_background": "light"
     },
     "output_type": "display_data"
    }
   ],
   "source": [
    "resultats_KNN_filtres = [[],[]]\n",
    "\n",
    "for i in range(len(resultats_KNN[0])):\n",
    "    if i % 2 == 1:\n",
    "        resultats_KNN_filtres[0].append(resultats_KNN[0][i])\n",
    "        resultats_KNN_filtres[1].append(resultats_KNN[1][i])\n",
    "\n",
    "resultats_KNN_filtres = np.array(resultats_KNN_filtres)\n",
    "plt.plot(resultats_KNN_filtres[0], resultats_KNN_filtres[1])\n",
    "plt.xlabel('k')\n",
    "plt.ylabel('Précision')\n",
    "plt.title('Précision de la classification en fonction de k')\n",
    "plt.show()"
   ]
  },
  {
   "cell_type": "markdown",
   "metadata": {},
   "source": [
    "On voit ici que la précision est la plus haute lo"
   ]
  },
  {
   "cell_type": "code",
   "execution_count": null,
   "metadata": {},
   "outputs": [],
   "source": [
    "resultats_KNN = classify_KNN(X_train_etaij, Y_train, X_test_etaij, Y_test, 15, False)"
   ]
  },
  {
   "cell_type": "code",
   "execution_count": null,
   "metadata": {},
   "outputs": [],
   "source": []
  },
  {
   "cell_type": "markdown",
   "metadata": {},
   "source": [
    "### Classification avec K"
   ]
  },
  {
   "cell_type": "code",
   "execution_count": null,
   "metadata": {},
   "outputs": [],
   "source": []
  }
 ],
 "metadata": {
  "kernelspec": {
   "display_name": "Python 3",
   "language": "python",
   "name": "python3"
  },
  "language_info": {
   "codemirror_mode": {
    "name": "ipython",
    "version": 3
   },
   "file_extension": ".py",
   "mimetype": "text/x-python",
   "name": "python",
   "nbconvert_exporter": "python",
   "pygments_lexer": "ipython3",
   "version": "3.8.5"
  }
 },
 "nbformat": 4,
 "nbformat_minor": 2
}
