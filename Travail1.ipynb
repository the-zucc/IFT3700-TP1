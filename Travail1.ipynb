{
 "cells": [
  {
   "cell_type": "markdown",
   "metadata": {},
   "source": [
    "# Travail pratique 1 - IFT 3700\n",
    "##### Remis le 22 novembre 2020 par Rym Bach et Laurier Lavoie-Giasson\n",
    "## Introduction\n",
    "Dans le cadre de ce travail, on s'intéresse à la précision des différentes techniques de classification vues en classe, et de comparer son niveau en utilisant la distance euclidienne ainsi que [...]\n",
    "## Code - chargement du jeu de données d'entraînement et de tests\n",
    "### Installation des packages nécessaires"
   ]
  },
  {
   "cell_type": "code",
   "execution_count": 1,
   "metadata": {},
   "outputs": [
    {
     "name": "stdout",
     "output_type": "stream",
     "text": [
      "Requirement already satisfied: scikit-learn-extra in /home/laurier/.local/lib/python3.7/site-packages (0.1.0b2)\n",
      "Requirement already satisfied: scikit-learn>=0.21.0 in /home/laurier/.local/lib/python3.7/site-packages (from scikit-learn-extra) (0.23.2)\n",
      "Requirement already satisfied: scipy>=0.19.1 in /home/laurier/.local/lib/python3.7/site-packages (from scikit-learn-extra) (1.5.2)\n",
      "Requirement already satisfied: numpy>=1.13.3 in /home/laurier/.local/lib/python3.7/site-packages (from scikit-learn-extra) (1.19.2)\n",
      "Requirement already satisfied: threadpoolctl>=2.0.0 in /home/laurier/.local/lib/python3.7/site-packages (from scikit-learn>=0.21.0->scikit-learn-extra) (2.1.0)\n",
      "Requirement already satisfied: joblib>=0.11 in /home/laurier/.local/lib/python3.7/site-packages (from scikit-learn>=0.21.0->scikit-learn-extra) (0.16.0)\n",
      "Requirement already satisfied: tqdm in /home/laurier/.local/lib/python3.7/site-packages (4.51.0)\n",
      "Requirement already satisfied: scikit-image in /home/laurier/.local/lib/python3.7/site-packages (0.17.2)\n",
      "Requirement already satisfied: matplotlib!=3.0.0,>=2.0.0 in /home/laurier/.local/lib/python3.7/site-packages (from scikit-image) (3.3.2)\n",
      "Requirement already satisfied: tifffile>=2019.7.26 in /home/laurier/.local/lib/python3.7/site-packages (from scikit-image) (2020.10.1)\n",
      "Requirement already satisfied: networkx>=2.0 in /home/laurier/.local/lib/python3.7/site-packages (from scikit-image) (2.5)\n",
      "Requirement already satisfied: numpy>=1.15.1 in /home/laurier/.local/lib/python3.7/site-packages (from scikit-image) (1.19.2)\n",
      "Requirement already satisfied: pillow!=7.1.0,!=7.1.1,>=4.3.0 in /home/laurier/.local/lib/python3.7/site-packages (from scikit-image) (7.2.0)\n",
      "Requirement already satisfied: PyWavelets>=1.1.1 in /home/laurier/.local/lib/python3.7/site-packages (from scikit-image) (1.1.1)\n",
      "Requirement already satisfied: scipy>=1.0.1 in /home/laurier/.local/lib/python3.7/site-packages (from scikit-image) (1.5.2)\n",
      "Requirement already satisfied: imageio>=2.3.0 in /home/laurier/.local/lib/python3.7/site-packages (from scikit-image) (2.9.0)\n",
      "Requirement already satisfied: python-dateutil>=2.1 in /usr/lib/python3/dist-packages (from matplotlib!=3.0.0,>=2.0.0->scikit-image) (2.7.3)\n",
      "Requirement already satisfied: kiwisolver>=1.0.1 in /home/laurier/.local/lib/python3.7/site-packages (from matplotlib!=3.0.0,>=2.0.0->scikit-image) (1.2.0)\n",
      "Requirement already satisfied: pyparsing!=2.0.4,!=2.1.2,!=2.1.6,>=2.0.3 in /home/laurier/.local/lib/python3.7/site-packages (from matplotlib!=3.0.0,>=2.0.0->scikit-image) (2.4.7)\n",
      "Requirement already satisfied: cycler>=0.10 in /home/laurier/.local/lib/python3.7/site-packages (from matplotlib!=3.0.0,>=2.0.0->scikit-image) (0.10.0)\n",
      "Requirement already satisfied: certifi>=2020.06.20 in /home/laurier/.local/lib/python3.7/site-packages (from matplotlib!=3.0.0,>=2.0.0->scikit-image) (2020.6.20)\n",
      "Requirement already satisfied: decorator>=4.3.0 in /usr/lib/python3/dist-packages (from networkx>=2.0->scikit-image) (4.3.0)\n",
      "Requirement already satisfied: six in /usr/lib/python3/dist-packages (from cycler>=0.10->matplotlib!=3.0.0,>=2.0.0->scikit-image) (1.12.0)\n"
     ]
    }
   ],
   "source": [
    "import sys\n",
    "!{sys.executable} -m pip install scikit-learn-extra\n",
    "!{sys.executable} -m pip install tqdm scikit-image"
   ]
  },
  {
   "cell_type": "markdown",
   "metadata": {},
   "source": [
    "### Chargement et prétraitement des jeux de données d'entraînement et de tests"
   ]
  },
  {
   "cell_type": "code",
   "execution_count": 2,
   "metadata": {},
   "outputs": [
    {
     "name": "stderr",
     "output_type": "stream",
     "text": [
      "100%|██████████| 60000/60000 [00:00<00:00, 735677.17it/s]\n",
      "  1%|          | 307/60000 [00:00<00:19, 3067.74it/s]"
     ]
    },
    {
     "name": "stdout",
     "output_type": "stream",
     "text": [
      "Extraction des labels pour mnist_train.csv\n",
      "Extraction des points de données pour mnist_train.csv\n"
     ]
    },
    {
     "name": "stderr",
     "output_type": "stream",
     "text": [
      "100%|██████████| 60000/60000 [00:18<00:00, 3231.02it/s]\n",
      "100%|██████████| 60000/60000 [00:01<00:00, 40399.41it/s]\n",
      "100%|██████████| 10000/10000 [00:00<00:00, 772118.85it/s]\n",
      "  3%|▎         | 346/10000 [00:00<00:02, 3455.08it/s]"
     ]
    },
    {
     "name": "stdout",
     "output_type": "stream",
     "text": [
      "Extraction des labels pour mnist_test.csv\n",
      "Extraction des points de données pour mnist_test.csv\n"
     ]
    },
    {
     "name": "stderr",
     "output_type": "stream",
     "text": [
      "100%|██████████| 10000/10000 [00:02<00:00, 3376.18it/s]\n",
      "100%|██████████| 10000/10000 [00:00<00:00, 43598.56it/s]\n"
     ]
    }
   ],
   "source": [
    "%matplotlib inline\n",
    "import csv\n",
    "import numpy as np\n",
    "import matplotlib.pyplot as plt\n",
    "\n",
    "from tqdm import tqdm\n",
    "from sklearn.cluster import KMeans\n",
    "from sklearn.metrics.pairwise import euclidean_distances\n",
    "\n",
    "CONST_N_DIM=784\n",
    "\n",
    "def preprocessing(aX, an_dimensions=CONST_N_DIM):\n",
    "    #cette fonction sera utilisée pour le prétraitement des données du jeu de données.\n",
    "    \n",
    "    ret_val = np.array([np.round(np.divide(aX[i], 255.0)) for i in tqdm(range(len(aX)))])\n",
    "    return ret_val\n",
    "    \n",
    "def readMNIST(afilename, an_dimensions=CONST_N_DIM):\n",
    "    #cette fonction lit le fichier de MNIST à l'emplacement fourni et retourne le jeu de\n",
    "    #données sur lequel on a appliqué la fonction de prétraitement\n",
    "    data = open(afilename)\n",
    "    csv_file = csv.reader(data)\n",
    "    data_points = [row for row in csv_file] #pour enlever les headers\n",
    "    data_points.pop(0)\n",
    "    #valeurs Y de taille 1 (labels)\n",
    "    print(\"Extraction des labels pour\", afilename)\n",
    "    Y = np.array([int(data_points[i][0]) for i in tqdm(range(len(data_points)))])\n",
    "    \n",
    "    #vecteurs X de taille 784 (arrondis à l'entier le plus près)\n",
    "    print(\"Extraction des points de données pour\", afilename)\n",
    "    X = np.array([[int(j) for j in data_points[i][1:]] for i in tqdm(range(len(data_points)))])\n",
    "    X = X.reshape((len(Y),784))\n",
    "    \n",
    "    #on retourne un tuple avec les vecteurs x et les valeurs y\n",
    "    return (preprocessing(X, an_dimensions),Y)\n",
    "\n",
    "XY_train = readMNIST('mnist_train.csv', CONST_N_DIM)\n",
    "X_train = XY_train[0]\n",
    "Y_train = XY_train[1]\n",
    "\n",
    "XY_test = readMNIST('mnist_test.csv', CONST_N_DIM)\n",
    "X_test = XY_test[0]\n",
    "Y_test = XY_test[1]"
   ]
  },
  {
   "cell_type": "markdown",
   "metadata": {},
   "source": [
    "### _Sanity Check_\n",
    "Ici, on regarde si les données sont encore \"saines\", c'est à dire si on peut afficher la première lettre du jeu de données d'entraînement."
   ]
  },
  {
   "cell_type": "code",
   "execution_count": 3,
   "metadata": {},
   "outputs": [
    {
     "data": {
      "image/png": "[encoded data removed]",
      "text/plain": [
       "<Figure size 432x288 with 1 Axes>"
      ]
     },
     "metadata": {
      "needs_background": "light"
     },
     "output_type": "display_data"
    }
   ],
   "source": [
    "plt.imshow(X_train[0].reshape((28,28)), cmap=\"gray\")\n",
    "plt.show()"
   ]
  },
  {
   "cell_type": "markdown",
   "metadata": {},
   "source": [
    "## Mise en place de la métrique à utiliser\n",
    "\n",
    "### Définitions nécessaires à la métrique\n",
    "\n",
    "Soit $X = \\begin{pmatrix}x_{11} & ... & x_{1n}\\\\ ... & ... & ... \\\\ x_{n1} & ... & x_{nn}\\end{pmatrix}$, l'image en question. Les moments $M_{X00}, M_{X01}$ et $M_{X10}$sont définis comme suit:\n",
    "\\begin{align}\n",
    "    M_{Xij} = \\sum_{k=1}^{d_1}\\sum_{\\ell}^{d_2}x_{k\\ell}k^i\\cdot\\ell^j\n",
    "\\end{align}\n",
    "Soit $X$ et ses moments $M_{X00}, M_{X01}$ et $M_{X10}$, on a le centroïde $\\{\\bar{x}_X,\\bar{y}_X\\} = \\{\\frac{M_{X10}}{M_{X00}}, \\frac{M_{X01}}{M_{X00}}\\}$.\n",
    "Soit $X$ et son centroïde $\\{\\bar{x}_X,\\bar{y}_X\\}$, on a les moments centraux $\\mu_{X00}, \\mu_{X20}, \\mu_{X02}, \\mu_{X11}, \\mu_{X30}, \\mu_{X03}, \\mu_{X21}$ et $\\mu_{X12}$.\n",
    "\\begin{align}\n",
    "    \\mu_{Xij} = \\sum_{k=1}^{d_1}\\sum_{\\ell=1}^{d_2}x_{k\\ell}\\cdot(k-\\bar{x})^i\\cdot(\\ell−\\bar{y})^j)\n",
    "\\end{align}\n",
    "Soit $X_1 = (x_{11}, ..., x_{1n}), X_2 = (x_{21}, ..., x_{2n})$, deux vecteurs de taille $n$, on définit formellement la distance euclidienne entre ceux ci:\n",
    "\\begin{align}\n",
    "    d_e(X_1, X_2) = \\sqrt{\\sum_{i=1}^n(x_{1i}-x_{2i})^2}\n",
    "\\end{align}\n",
    "\n",
    "Soit $X$ et ses moments centraux, on définit $m_{vect}(X)$:\n",
    "\\begin{align}\n",
    "    m_{vect}(X) = (\\mu_{20}, \\mu_{02}, \\mu_{11}, \\mu_{30}, \\mu_{03}, \\mu_{21}, \\mu_{12})\n",
    "\\end{align}\n",
    "\n",
    "### Définition de la métrique\n",
    "\n",
    "Pour calculer cette distance, on calculera la similarité des points en comparant la distance euclidienne entre les vecteurs contenant leurs moments centraux $\\mu_{20}, \\mu_{02}, \\mu_{11}, \\mu_{30}, \\mu_{03}, \\mu_{21}$ et $\\mu_{12}$.\n",
    "On prendra:\n",
    "\n",
    "On aura alors:\n",
    "\\begin{align}\n",
    "    d_{m}(X_1, X_2) = d_{e}(m_{vect}(X_1), m_{vect}(X_2))\n",
    "\\end{align}\n",
    "\n",
    "### Résistance à la translation\n",
    "Pour la même raison que l'écart type et la variance $\\sigma$ et $\\sigma^2$ ne changent pas lorsque l'on additionne une constante $c$ à toutes les données d'une distribution, par définition, les moments centraux $\\mu_{ij}$ sont invariants en translation.\n",
    "\n",
    "##### Pour plus d'informations sur les moments, consulter les pages suivantes:\n",
    "- https://en.wikipedia.org/wiki/Image_moment\n",
    "- https://docs.opencv.org/master/d8/d23/classcv_1_1Moments.html"
   ]
  },
  {
   "cell_type": "code",
   "execution_count": 4,
   "metadata": {},
   "outputs": [],
   "source": [
    "from skimage.measure import moments, moments_central\n",
    "\n",
    "#fonction qui calcule les mu_ij pour un vecteur X de taille 784 donné\n",
    "def compute_mu_ij(ax):\n",
    "    x = ax.reshape((28,28))\n",
    "    m = moments(x)\n",
    "    centroid = (m[1,0]/m[0,0], m[0,1]/m[0,0])\n",
    "    mu = moments_central(x, centroid)\n",
    "    return np.array([mu[2,0], mu[0,2], mu[1,1], mu[3,0], mu[0,3], mu[2,1], mu[1,2]])\n",
    "\n",
    "#on définit la fonction de similarité à utiliser\n",
    "def moment_distance(ax_1, ax_2):\n",
    "    return np.linalg.norm(compute_mu_ij(ax_1)-compute_mu_ij(ax_2))"
   ]
  },
  {
   "cell_type": "markdown",
   "metadata": {},
   "source": [
    "## Inconvénient lors de l'utilisation de cette métrique de façon conventionnelle - Complexité\n",
    "En ne faisant que spécifier la métrique dans le contructeur des différents classificateurs, on augmente drastiquement la complexité. En effet, pour les $n^2$ paires de points, pour calculer la matrice des distances entre, on effectue 1 appel de la fonction `compute_mu_ij` par point, pour un total de 2n^2. Comme la matrice est symétrique, on peut considérer que l'on appelle $n^2$ fois la fonction. Cependant, la complexité du calcul des $\\mu_{ij}$ est bien plus grande que celle de la distance euclidienne! Il convient donc d'adapter notre utilisation de la méthode de calcul pour réduire la complexité.\n",
    "\n",
    "## Solution - _precomputation_\n",
    "Évidemment, une fois que l'on a exécuté compute_mu_ij pour un point du jeu de données, on peut stocker la valeur de retour dans une liste. Puisque la métrique proposée utilise la distance euclidienne à l'intérieur, on peut donc simplement faire un précalcul des $\\mu_{ij}$ nécessaires pour la métrique, et les stocker dans une liste. Cela nous permettra de classifier le jeu de données de la même façon que l'on l'aurait fait dans le jeu de données d'origine.\n",
    "\n",
    "Par contre, pour pouvoir classer une donnée, on devra d'abord effectuer la transformation pour obtenir les $\\mu_{ij}$.\n",
    "\n",
    "La cellule ci-dessous effectue le précalcul nécessaire à la métrique.\n",
    "\n",
    "## Implémentation particulière\n",
    "\n",
    "Une autre solution aurait été d'utiliser la fonctionnalité \"precomputed\" de Scikit-learn, en combinaison avec la méthode `sklearn.metrics.pairwise_distances`. Cependant, générer une telle matrice prend **beaucoup de temps de calcul, et consomme beaucoup de mémoire**. Pour cette raison, il convient d'instancier un modèle basé entièrement sur les vecteurs des $\\mu_{ij}$. Avant la classification, il suffira de convertir une donnée en son vecteur de moments en utilisant la fonction `compute_mu_ij`, et de classifier le résultat; un exemple suivra pour le démontrer."
   ]
  },
  {
   "cell_type": "code",
   "execution_count": 5,
   "metadata": {
    "scrolled": true
   },
   "outputs": [
    {
     "name": "stderr",
     "output_type": "stream",
     "text": [
      "  1%|          | 500/60000 [00:00<00:11, 4991.22it/s]"
     ]
    },
    {
     "name": "stdout",
     "output_type": "stream",
     "text": [
      "précalcul des mu_ij pour le jeu de données d'entraînement\n"
     ]
    },
    {
     "name": "stderr",
     "output_type": "stream",
     "text": [
      "100%|██████████| 60000/60000 [00:11<00:00, 5153.28it/s]\n",
      "  5%|▌         | 505/10000 [00:00<00:01, 5046.03it/s]"
     ]
    },
    {
     "name": "stdout",
     "output_type": "stream",
     "text": [
      "précalcul des mu_ij pour le jeu de données de tests\n"
     ]
    },
    {
     "name": "stderr",
     "output_type": "stream",
     "text": [
      "100%|██████████| 10000/10000 [00:01<00:00, 5194.74it/s]\n"
     ]
    }
   ],
   "source": [
    "def precompute_mu_ij_matrix(aX):\n",
    "    return np.array([compute_mu_ij(x) for x in tqdm(aX)])\n",
    "\n",
    "print(\"précalcul des mu_ij pour le jeu de données d'entraînement\")\n",
    "X_train_mu = precompute_mu_ij_matrix(X_train)\n",
    "print(\"précalcul des mu_ij pour le jeu de données de tests\")\n",
    "X_test_mu = precompute_mu_ij_matrix(X_test)"
   ]
  },
  {
   "cell_type": "markdown",
   "metadata": {},
   "source": [
    "## Exemple de classification d'un point de données en utilisant la distance des moments"
   ]
  },
  {
   "cell_type": "code",
   "execution_count": 6,
   "metadata": {},
   "outputs": [
    {
     "name": "stdout",
     "output_type": "stream",
     "text": [
      "Prédiction: 7\n"
     ]
    },
    {
     "data": {
      "image/png": "[encoded data removed]",
      "text/plain": [
       "<Figure size 432x288 with 1 Axes>"
      ]
     },
     "metadata": {
      "needs_background": "light"
     },
     "output_type": "display_data"
    },
    {
     "name": "stdout",
     "output_type": "stream",
     "text": [
      "Prédiction: 2\n"
     ]
    },
    {
     "data": {
      "image/png": "[encoded data removed]",
      "text/plain": [
       "<Figure size 432x288 with 1 Axes>"
      ]
     },
     "metadata": {
      "needs_background": "light"
     },
     "output_type": "display_data"
    },
    {
     "name": "stdout",
     "output_type": "stream",
     "text": [
      "Prédiction: 1\n"
     ]
    },
    {
     "data": {
      "image/png": "[encoded data removed]",
      "text/plain": [
       "<Figure size 432x288 with 1 Axes>"
      ]
     },
     "metadata": {
      "needs_background": "light"
     },
     "output_type": "display_data"
    },
    {
     "name": "stdout",
     "output_type": "stream",
     "text": [
      "Prédiction: 0\n"
     ]
    },
    {
     "data": {
      "image/png": "[encoded data removed]",
      "text/plain": [
       "<Figure size 432x288 with 1 Axes>"
      ]
     },
     "metadata": {
      "needs_background": "light"
     },
     "output_type": "display_data"
    },
    {
     "name": "stdout",
     "output_type": "stream",
     "text": [
      "Prédiction: 4\n"
     ]
    },
    {
     "data": {
      "image/png": "[encoded data removed]",
      "text/plain": [
       "<Figure size 432x288 with 1 Axes>"
      ]
     },
     "metadata": {
      "needs_background": "light"
     },
     "output_type": "display_data"
    },
    {
     "name": "stdout",
     "output_type": "stream",
     "text": [
      "Prédiction: 1\n"
     ]
    },
    {
     "data": {
      "image/png": "[encoded data removed]",
      "text/plain": [
       "<Figure size 432x288 with 1 Axes>"
      ]
     },
     "metadata": {
      "needs_background": "light"
     },
     "output_type": "display_data"
    },
    {
     "name": "stdout",
     "output_type": "stream",
     "text": [
      "Prédiction: 4\n"
     ]
    },
    {
     "data": {
      "image/png": "[encoded data removed]",
      "text/plain": [
       "<Figure size 432x288 with 1 Axes>"
      ]
     },
     "metadata": {
      "needs_background": "light"
     },
     "output_type": "display_data"
    },
    {
     "name": "stdout",
     "output_type": "stream",
     "text": [
      "Prédiction: 9\n"
     ]
    },
    {
     "data": {
      "image/png": "[encoded data removed]",
      "text/plain": [
       "<Figure size 432x288 with 1 Axes>"
      ]
     },
     "metadata": {
      "needs_background": "light"
     },
     "output_type": "display_data"
    },
    {
     "name": "stdout",
     "output_type": "stream",
     "text": [
      "Prédiction: 4\n"
     ]
    },
    {
     "data": {
      "image/png": "[encoded data removed]",
      "text/plain": [
       "<Figure size 432x288 with 1 Axes>"
      ]
     },
     "metadata": {
      "needs_background": "light"
     },
     "output_type": "display_data"
    },
    {
     "name": "stdout",
     "output_type": "stream",
     "text": [
      "Prédiction: 7\n"
     ]
    },
    {
     "data": {
      "image/png": "[encoded data removed]",
      "text/plain": [
       "<Figure size 432x288 with 1 Axes>"
      ]
     },
     "metadata": {
      "needs_background": "light"
     },
     "output_type": "display_data"
    },
    {
     "name": "stdout",
     "output_type": "stream",
     "text": [
      "Prédiction: 0\n"
     ]
    },
    {
     "data": {
      "image/png": "[encoded data removed]",
      "text/plain": [
       "<Figure size 432x288 with 1 Axes>"
      ]
     },
     "metadata": {
      "needs_background": "light"
     },
     "output_type": "display_data"
    },
    {
     "name": "stdout",
     "output_type": "stream",
     "text": [
      "Prédiction: 6\n"
     ]
    },
    {
     "data": {
      "image/png": "[encoded data removed]",
      "text/plain": [
       "<Figure size 432x288 with 1 Axes>"
      ]
     },
     "metadata": {
      "needs_background": "light"
     },
     "output_type": "display_data"
    },
    {
     "name": "stdout",
     "output_type": "stream",
     "text": [
      "Prédiction: 9\n"
     ]
    },
    {
     "data": {
      "image/png": "[encoded data removed]",
      "text/plain": [
       "<Figure size 432x288 with 1 Axes>"
      ]
     },
     "metadata": {
      "needs_background": "light"
     },
     "output_type": "display_data"
    },
    {
     "name": "stdout",
     "output_type": "stream",
     "text": [
      "Prédiction: 0\n"
     ]
    },
    {
     "data": {
      "image/png": "[encoded data removed]",
      "text/plain": [
       "<Figure size 432x288 with 1 Axes>"
      ]
     },
     "metadata": {
      "needs_background": "light"
     },
     "output_type": "display_data"
    },
    {
     "name": "stdout",
     "output_type": "stream",
     "text": [
      "Prédiction: 1\n"
     ]
    },
    {
     "data": {
      "image/png": "[encoded data removed]",
      "text/plain": [
       "<Figure size 432x288 with 1 Axes>"
      ]
     },
     "metadata": {
      "needs_background": "light"
     },
     "output_type": "display_data"
    }
   ],
   "source": [
    "from sklearn.neighbors import KNeighborsClassifier\n",
    "\n",
    "\n",
    "def classify_etaij(data_point):\n",
    "    \n",
    "    classifier = KNeighborsClassifier(n_neighbors=4)\n",
    "    classifier.fit(X_train_mu, Y_train)\n",
    "\n",
    "    #on sélectionne une donnée\n",
    "    x_to_classify=data_point\n",
    "    #on applique la transformation\n",
    "    mu_x = compute_mu_ij(x_to_classify)\n",
    "    #on classifie le résultat\n",
    "    print(f\"Prédiction: {classifier.predict(np.array([mu_x]))[0]}\")\n",
    "\n",
    "    #vérification additionnelle\n",
    "    plt.title(\"Image de la précédente prédiction\")\n",
    "    plt.imshow(data_point.reshape((28,28)), cmap=\"gray\")\n",
    "    plt.show()\n",
    "\n",
    "for i in range(15):\n",
    "    classify_etaij(X_test[i])"
   ]
  },
  {
   "cell_type": "markdown",
   "metadata": {},
   "source": [
    "## À première vue: une métrique efficace ?\n",
    "\n",
    "On voit que pour les 15 premiers exemplaires, la méthode des $k$ plus proches voisins fonctionne relativement bien en utilisant la métrique proposée, la _distance des moments_. Nous allons voir que cette mesure de similarité permet d'obtenir des résultats tout de même très satisfaisants, tout en bénéficiant d'un temps de calcul réduit.\n",
    "\n",
    "### Temps de calcul avantageux\n",
    "Effectivement, on a pu voir dans la cellule précédente qu'après le précalcul des $\\mu_{ij}$, l'utilisation de la métrique de la manière proposée permet l'entraînement d'un classificateur à une vitesse extrêmement rapide. Ce n'est en aucun cas comparable à l'entraînement d'un classificateur en utilisant la distance euclidienne seule.\n",
    "\n",
    "## Un regard plus détaillé sur la performance de cette métrique \n",
    "\n",
    "Il convient maintenant de comparer la performance de la métrique en utilisant divers algorithmes de classification et de réduction de dimensionnalité. On verra que, bien qu'à première vue cette métrique semble efficace, sa performance n'est pastout à fait aussi bonne que celle de la distance euclidienne.\n",
    "\n",
    "### Méthode des K plus proches voisins\n",
    "\n",
    "Ici, comme le classificateur `KNeighborsClassifier` n'utilise pas le parallélisme en arrière-plan (plusieurs autres algorithmes font usage du parallélisme en arrière-plan), afin d'accélérer le temps de calcul avec les différents $k$, on utilise le module `multiprocessing`. On démarre des processus pour ne pas être limité par le _Global Interpreter Lock_ de Python.\n",
    "\n",
    "Pour ne pas copier les données dans chaque processus, on devra les copier dans des tableaux partagés, et les passer en paramètre afin qu'ils puissent être utilisées par tous les processus"
   ]
  },
  {
   "cell_type": "code",
   "execution_count": 7,
   "metadata": {},
   "outputs": [],
   "source": [
    "from multiprocessing import Process\n",
    "from multiprocessing.sharedctypes import Array\n",
    "from sklearn.neighbors import KNeighborsClassifier\n",
    "import math\n",
    "#on va utiliser ici du multi-processing pour travailler autour du GIL de Python,\n",
    "#on va démarrer plusieurs processus et travailler sur des variables partagées\n",
    "\n",
    "def fit_and_score(aX_train, aY_train, aX_test, aY_test, ak, aAccuracy_shared_array):\n",
    "    classifier = KNeighborsClassifier(n_neighbors=ak)\n",
    "    classifier.fit(aX_train, aY_train)\n",
    "    aAccuracy_shared_array[ak] = classifier.score(aX_test, aY_test)\n",
    "    return aAccuracy_shared_array[ak]\n",
    "\n",
    "def classify_KNN(aX_train, aY_train, aX_test, aY_test, max_neighbors, multi_process=True):\n",
    "    if multi_process:\n",
    "        #on crée un tableau partagé de doubles \"primitifs\" de C pour les résultats\n",
    "        aX_train_shared=Array('d', aX_train.shape[0]*aX_train.shape[1])\n",
    "        #on le passe à Numpy pour utilisation à travers l'interface \"buffer\"\n",
    "        aX_train_mp=np.frombuffer(aX_train_shared.get_obj()).reshape(aX_train.shape)\n",
    "        #on copie les valeurs de l'argument dans le tableau partagé\n",
    "        np.copyto(aX_train_mp, aX_train)\n",
    "        \n",
    "        aY_train_shared=Array('d', aY_train.size)\n",
    "        aY_train_mp=np.frombuffer(aY_train_shared.get_obj())\n",
    "        np.copyto(aY_train_mp, aY_train)\n",
    "        \n",
    "        \n",
    "        aX_test_shared=Array('d', aX_test.shape[0]*aX_test.shape[1])\n",
    "        aX_test_mp=np.frombuffer(aX_test_shared.get_obj()).reshape(aX_test.shape)\n",
    "        np.copyto(aX_test_mp, aX_test)\n",
    "        \n",
    "        \n",
    "        aY_test_shared=Array('d', aY_test.size)\n",
    "        aY_test_mp=np.frombuffer(aY_test_shared.get_obj())\n",
    "        np.copyto(aY_test_mp, aY_test)\n",
    "        \n",
    "        #initialisation des K impairs\n",
    "        k_range = range(max_neighbors)\n",
    "        \n",
    "        #on crée un tableau partagé de doubles \"primitifs\" de C pour stocker la précision des modèles\n",
    "        accuracy_array = Array('d', len(k_range))\n",
    "        accuracy = np.frombuffer(accuracy_array.get_obj())\n",
    "        #on initialise les valeurs à zéro\n",
    "        np.copyto(accuracy, np.zeros(len(k_range)))\n",
    "        \n",
    "        processes = []\n",
    "        \n",
    "        for k in k_range:\n",
    "            if k % 2 != 0:\n",
    "                #spawn un processus pour calculer, qui lira la mémoire partagée\n",
    "                myprocess=Process(target=fit_and_score, args=(aX_train_mp, aY_train_mp, aX_test_mp, aY_test_mp, k, accuracy))\n",
    "                processes.append(myprocess)\n",
    "                myprocess.start()\n",
    "        for i in tqdm(range(len(processes))):\n",
    "            myprocess=processes[i]\n",
    "            #join le processus pour arrêter l'exécution jusqu'à temps que les calculs soient terminés\n",
    "            myprocess.join()\n",
    "            del myprocess\n",
    "        #retourner les paires de K et de précision\n",
    "        return np.array([np.array(k_range), accuracy])\n",
    "    else:\n",
    "        for k in tqdm(range(max_neighbors)):\n",
    "            if k % 2 != 0:\n",
    "                classifier = KNeighborsClassifier(n_neighbors=1)\n",
    "                classifier.fit(aX_train, aY_train)\n",
    "                print(classifier.score(aX_test, aY_test))\n",
    "\n",
    "def plot_KNN_results(adist_name, ak_and_acc_vects):\n",
    "    filtered_results = [[],[]]\n",
    "    for i in range(len(ak_and_acc_vects[0])):\n",
    "        if i % 2 == 1:\n",
    "            filtered_results[0].append(ak_and_acc_vects[0][i])\n",
    "            filtered_results[1].append(ak_and_acc_vects[1][i])\n",
    "            \n",
    "    filtered_results = np.array(filtered_results)\n",
    "    \n",
    "    max_acc_idx = np.argmax(filtered_results[1])\n",
    "    max_acc_K = int(filtered_results[0][max_acc_idx])\n",
    "    max_acc = filtered_results[1][max_acc_idx]\n",
    "    print(f\"K optimal: {max_acc_K}\")\n",
    "    print(f\"Précision optimale ({adist_name}): {max_acc}\")\n",
    "\n",
    "    plt.plot(filtered_results[0], filtered_results[1])\n",
    "    plt.xlabel('k')\n",
    "    plt.ylabel('Précision')\n",
    "    plt.title(f'Précision de la Classification en Fonction de k ({adist_name})')\n",
    "    plt.show()\n",
    "    return max_acc"
   ]
  },
  {
   "cell_type": "code",
   "execution_count": 8,
   "metadata": {},
   "outputs": [
    {
     "name": "stderr",
     "output_type": "stream",
     "text": [
      "100%|██████████| 7/7 [30:35<00:00, 262.19s/it]   \n",
      "100%|██████████| 50/50 [00:12<00:00,  3.98it/s]\n"
     ]
    },
    {
     "name": "stdout",
     "output_type": "stream",
     "text": [
      "K optimal: 5\n",
      "Précision optimale (Distance Euclidienne): 0.9579\n"
     ]
    },
    {
     "data": {
      "image/png": "[encoded data removed]",
      "text/plain": [
       "<Figure size 432x288 with 1 Axes>"
      ]
     },
     "metadata": {
      "needs_background": "light"
     },
     "output_type": "display_data"
    },
    {
     "name": "stdout",
     "output_type": "stream",
     "text": [
      "K optimal: 9\n",
      "Précision optimale (Distance des Moments): 0.7804\n"
     ]
    },
    {
     "data": {
      "image/png": "[encoded data removed]",
      "text/plain": [
       "<Figure size 432x288 with 1 Axes>"
      ]
     },
     "metadata": {
      "needs_background": "light"
     },
     "output_type": "display_data"
    },
    {
     "name": "stdout",
     "output_type": "stream",
     "text": [
      "Excluant le précalcul, on a sauvé environ 99.0% du temps de calcul, en conservant environ 81.0% de la précision\n"
     ]
    }
   ],
   "source": [
    "from datetime import datetime\n",
    "\n",
    "#classification pour la distance euclidienne\n",
    "t1_euc = datetime.now()\n",
    "resultats_KNN_euc = classify_KNN(X_train, Y_train, X_test, Y_test, 15, True)\n",
    "t2_euc = datetime.now()\n",
    "#classification pour la distance des moments\n",
    "t1_mom = datetime.now()\n",
    "resultats_KNN_moments = classify_KNN(X_train_mu, Y_train, X_test_mu, Y_test, 100, True)\n",
    "t2_mom = datetime.now()\n",
    "\n",
    "#affichage les résultats\n",
    "acc_euc = plot_KNN_results(\"Distance Euclidienne\", resultats_KNN_euc)\n",
    "acc_mom = plot_KNN_results(\"Distance des Moments\", resultats_KNN_moments)\n",
    "\n",
    "#temps de calcul\n",
    "dt_euc = (t2_euc-t1_euc).seconds\n",
    "dt_mom = (t2_mom-t1_mom).seconds\n",
    "\n",
    "#affichage du temps de calcul relatif et de la précision relative\n",
    "print(f\"Excluant le précalcul, on a sauvé environ {np.round(100*(1-(dt_mom/dt_euc)))}% du temps de calcul, en conservant environ {np.round(100*acc_mom/acc_euc)}% de la précision\")"
   ]
  },
  {
   "cell_type": "markdown",
   "metadata": {},
   "source": [
    "On voit ici qu'avec la précision est la plus haute lorsque $k = 5$. Pour des raisons de temps de calcul, on n'a pas testé l'algorithme à plus que 13 voisins. De toute manière, la précision diminuait au fur et à mesure que l'on augmentait $k$ au delà de 5.\n",
    "En utilisant la métrique proposée, la distance des moments, la précision est la plus haute lorsque $k = 9$. Puisque la classification se fait beaucoup plus rapidement lorsqu'on utilise cette métrique, on a même pu effectuer les itérations jusqu'à calculer en uilisant les 99 plus proches voisins.\n",
    "### Analyse (KNN)\n",
    "On voit clairement que la précision est moins bonne que la distance euclidienne. Cependant, même avec le précalcul nécessaire à l'utilisation de la métrique, le temps de calcul a considérablement diminué. Il existe assurément des situations où l'on bénéficierait d'une telle accélération, même au coût d'une perte de précision."
   ]
  },
  {
   "cell_type": "markdown",
   "metadata": {},
   "source": [
    "### Classification à l'aide d'un arbre décisionnel"
   ]
  },
  {
   "cell_type": "code",
   "execution_count": 10,
   "metadata": {},
   "outputs": [
    {
     "name": "stdout",
     "output_type": "stream",
     "text": [
      "Précision de l'arbre décisionnel en utilisant la Distance Euclidienne: 0.8662\n",
      "Précision de l'arbre décisionnel en utilisant la Distance des Moments: 0.7103\n",
      "Excluant le précalcul, on a sauvé environ 93.0% du temps de calcul, en conservant environ 82.0% de la précision\n"
     ]
    }
   ],
   "source": [
    "from sklearn.tree import DecisionTreeClassifier\n",
    "from datetime import datetime\n",
    "import math\n",
    "\n",
    "def classify_dt(aX_train, aY_train, aX_test, aY_test):\n",
    "    classifier = DecisionTreeClassifier()\n",
    "    classifier.fit(aX_train, aY_train)\n",
    "    return classifier.score(aX_test, aY_test)\n",
    "\n",
    "#classification (distance euclidienne)\n",
    "t1_euc = datetime.now()\n",
    "acc_euc = classify_dt(X_train, Y_train, X_test, Y_test)\n",
    "t2_euc = datetime.now()\n",
    "\n",
    "#classification (distance des moments)\n",
    "t1_mom = datetime.now()\n",
    "acc_mom = classify_dt(X_train_mu, Y_train, X_test_mu, Y_test)\n",
    "t2_mom = datetime.now()\n",
    "\n",
    "#temps de calcul\n",
    "dt_euc = (t2_euc-t1_euc).seconds\n",
    "dt_mom = (t2_mom-t1_mom).seconds\n",
    "\n",
    "#affichage des résultats\n",
    "print(f\"Précision de l'arbre décisionnel en utilisant la Distance Euclidienne: {acc_euc}\")\n",
    "print(f\"Précision de l'arbre décisionnel en utilisant la Distance des Moments: {acc_mom}\")\n",
    "print(f\"Excluant le précalcul, on a sauvé environ {np.round(100*(1-(dt_mom/dt_euc)))}% du temps de calcul, en conservant environ {np.round(100*acc_mom/acc_euc)}% de la précision\")"
   ]
  },
  {
   "cell_type": "markdown",
   "metadata": {},
   "source": [
    "### Analyse (Arbre décisionnel)\n",
    "Évidemment, la précision n'est pas aussi élevée. C'est à s'y attendre; on a réduit notre espace vectoriel de $\\mathbb{R}^{784}$ à $\\mathbb{R}^{7}$, donc on perd de la granularité lors de l'analyse statistique des données.\n",
    "\n",
    "###### Il serait incorrect d'affirmer que le gain de performance est assez significatif pour justifier cette perte de précision; le temps de calcul était très court en utilisant la distance euclidienne, même sur le jeu de données entier. Pour cette raison, l'utilisation de cette métrique est déconseillée dans le contexte d'un darbre décisionnel."
   ]
  },
  {
   "cell_type": "markdown",
   "metadata": {},
   "source": [
    "### Réduction de dimensionalité à l'aide de MDS (PCoA)"
   ]
  },
  {
   "cell_type": "code",
   "execution_count": 11,
   "metadata": {},
   "outputs": [
    {
     "ename": "ValueError",
     "evalue": "Found input variables with inconsistent numbers of samples: [10000, 3000]",
     "output_type": "error",
     "traceback": [
      "\u001b[0;31m---------------------------------------------------------------------------\u001b[0m",
      "\u001b[0;31mValueError\u001b[0m                                Traceback (most recent call last)",
      "\u001b[0;32m<ipython-input-11-2ab3797ffd97>\u001b[0m in \u001b[0;36m<module>\u001b[0;34m()\u001b[0m\n\u001b[1;32m     16\u001b[0m \u001b[0mclassifier\u001b[0m\u001b[0;34m.\u001b[0m\u001b[0mfit\u001b[0m\u001b[0;34m(\u001b[0m\u001b[0mout_euc\u001b[0m\u001b[0;34m,\u001b[0m \u001b[0mY_train\u001b[0m\u001b[0;34m[\u001b[0m\u001b[0;34m:\u001b[0m\u001b[0;36m3000\u001b[0m\u001b[0;34m]\u001b[0m\u001b[0;34m)\u001b[0m\u001b[0;34m\u001b[0m\u001b[0;34m\u001b[0m\u001b[0m\n\u001b[1;32m     17\u001b[0m \u001b[0mt2_euc\u001b[0m \u001b[0;34m=\u001b[0m \u001b[0mdatetime\u001b[0m\u001b[0;34m.\u001b[0m\u001b[0mnow\u001b[0m\u001b[0;34m(\u001b[0m\u001b[0;34m)\u001b[0m\u001b[0;34m\u001b[0m\u001b[0;34m\u001b[0m\u001b[0m\n\u001b[0;32m---> 18\u001b[0;31m \u001b[0macc_euc\u001b[0m \u001b[0;34m=\u001b[0m \u001b[0mclassifier\u001b[0m\u001b[0;34m.\u001b[0m\u001b[0mscore\u001b[0m\u001b[0;34m(\u001b[0m\u001b[0mout_euc\u001b[0m\u001b[0;34m,\u001b[0m \u001b[0mY_test\u001b[0m\u001b[0;34m)\u001b[0m\u001b[0;34m\u001b[0m\u001b[0;34m\u001b[0m\u001b[0m\n\u001b[0m\u001b[1;32m     19\u001b[0m \u001b[0;34m\u001b[0m\u001b[0m\n\u001b[1;32m     20\u001b[0m \u001b[0;31m#classification (distance des moments)\u001b[0m\u001b[0;34m\u001b[0m\u001b[0;34m\u001b[0m\u001b[0;34m\u001b[0m\u001b[0m\n",
      "\u001b[0;32m/home/laurier/.local/lib/python3.7/site-packages/sklearn/base.py\u001b[0m in \u001b[0;36mscore\u001b[0;34m(self, X, y, sample_weight)\u001b[0m\n\u001b[1;32m    497\u001b[0m         \"\"\"\n\u001b[1;32m    498\u001b[0m         \u001b[0;32mfrom\u001b[0m \u001b[0;34m.\u001b[0m\u001b[0mmetrics\u001b[0m \u001b[0;32mimport\u001b[0m \u001b[0maccuracy_score\u001b[0m\u001b[0;34m\u001b[0m\u001b[0;34m\u001b[0m\u001b[0m\n\u001b[0;32m--> 499\u001b[0;31m         \u001b[0;32mreturn\u001b[0m \u001b[0maccuracy_score\u001b[0m\u001b[0;34m(\u001b[0m\u001b[0my\u001b[0m\u001b[0;34m,\u001b[0m \u001b[0mself\u001b[0m\u001b[0;34m.\u001b[0m\u001b[0mpredict\u001b[0m\u001b[0;34m(\u001b[0m\u001b[0mX\u001b[0m\u001b[0;34m)\u001b[0m\u001b[0;34m,\u001b[0m \u001b[0msample_weight\u001b[0m\u001b[0;34m=\u001b[0m\u001b[0msample_weight\u001b[0m\u001b[0;34m)\u001b[0m\u001b[0;34m\u001b[0m\u001b[0;34m\u001b[0m\u001b[0m\n\u001b[0m\u001b[1;32m    500\u001b[0m \u001b[0;34m\u001b[0m\u001b[0m\n\u001b[1;32m    501\u001b[0m     \u001b[0;32mdef\u001b[0m \u001b[0m_more_tags\u001b[0m\u001b[0;34m(\u001b[0m\u001b[0mself\u001b[0m\u001b[0;34m)\u001b[0m\u001b[0;34m:\u001b[0m\u001b[0;34m\u001b[0m\u001b[0;34m\u001b[0m\u001b[0m\n",
      "\u001b[0;32m/home/laurier/.local/lib/python3.7/site-packages/sklearn/utils/validation.py\u001b[0m in \u001b[0;36minner_f\u001b[0;34m(*args, **kwargs)\u001b[0m\n\u001b[1;32m     70\u001b[0m                           FutureWarning)\n\u001b[1;32m     71\u001b[0m         \u001b[0mkwargs\u001b[0m\u001b[0;34m.\u001b[0m\u001b[0mupdate\u001b[0m\u001b[0;34m(\u001b[0m\u001b[0;34m{\u001b[0m\u001b[0mk\u001b[0m\u001b[0;34m:\u001b[0m \u001b[0marg\u001b[0m \u001b[0;32mfor\u001b[0m \u001b[0mk\u001b[0m\u001b[0;34m,\u001b[0m \u001b[0marg\u001b[0m \u001b[0;32min\u001b[0m \u001b[0mzip\u001b[0m\u001b[0;34m(\u001b[0m\u001b[0msig\u001b[0m\u001b[0;34m.\u001b[0m\u001b[0mparameters\u001b[0m\u001b[0;34m,\u001b[0m \u001b[0margs\u001b[0m\u001b[0;34m)\u001b[0m\u001b[0;34m}\u001b[0m\u001b[0;34m)\u001b[0m\u001b[0;34m\u001b[0m\u001b[0;34m\u001b[0m\u001b[0m\n\u001b[0;32m---> 72\u001b[0;31m         \u001b[0;32mreturn\u001b[0m \u001b[0mf\u001b[0m\u001b[0;34m(\u001b[0m\u001b[0;34m**\u001b[0m\u001b[0mkwargs\u001b[0m\u001b[0;34m)\u001b[0m\u001b[0;34m\u001b[0m\u001b[0;34m\u001b[0m\u001b[0m\n\u001b[0m\u001b[1;32m     73\u001b[0m     \u001b[0;32mreturn\u001b[0m \u001b[0minner_f\u001b[0m\u001b[0;34m\u001b[0m\u001b[0;34m\u001b[0m\u001b[0m\n\u001b[1;32m     74\u001b[0m \u001b[0;34m\u001b[0m\u001b[0m\n",
      "\u001b[0;32m/home/laurier/.local/lib/python3.7/site-packages/sklearn/metrics/_classification.py\u001b[0m in \u001b[0;36maccuracy_score\u001b[0;34m(y_true, y_pred, normalize, sample_weight)\u001b[0m\n\u001b[1;32m    185\u001b[0m \u001b[0;34m\u001b[0m\u001b[0m\n\u001b[1;32m    186\u001b[0m     \u001b[0;31m# Compute accuracy for each possible representation\u001b[0m\u001b[0;34m\u001b[0m\u001b[0;34m\u001b[0m\u001b[0;34m\u001b[0m\u001b[0m\n\u001b[0;32m--> 187\u001b[0;31m     \u001b[0my_type\u001b[0m\u001b[0;34m,\u001b[0m \u001b[0my_true\u001b[0m\u001b[0;34m,\u001b[0m \u001b[0my_pred\u001b[0m \u001b[0;34m=\u001b[0m \u001b[0m_check_targets\u001b[0m\u001b[0;34m(\u001b[0m\u001b[0my_true\u001b[0m\u001b[0;34m,\u001b[0m \u001b[0my_pred\u001b[0m\u001b[0;34m)\u001b[0m\u001b[0;34m\u001b[0m\u001b[0;34m\u001b[0m\u001b[0m\n\u001b[0m\u001b[1;32m    188\u001b[0m     \u001b[0mcheck_consistent_length\u001b[0m\u001b[0;34m(\u001b[0m\u001b[0my_true\u001b[0m\u001b[0;34m,\u001b[0m \u001b[0my_pred\u001b[0m\u001b[0;34m,\u001b[0m \u001b[0msample_weight\u001b[0m\u001b[0;34m)\u001b[0m\u001b[0;34m\u001b[0m\u001b[0;34m\u001b[0m\u001b[0m\n\u001b[1;32m    189\u001b[0m     \u001b[0;32mif\u001b[0m \u001b[0my_type\u001b[0m\u001b[0;34m.\u001b[0m\u001b[0mstartswith\u001b[0m\u001b[0;34m(\u001b[0m\u001b[0;34m'multilabel'\u001b[0m\u001b[0;34m)\u001b[0m\u001b[0;34m:\u001b[0m\u001b[0;34m\u001b[0m\u001b[0;34m\u001b[0m\u001b[0m\n",
      "\u001b[0;32m/home/laurier/.local/lib/python3.7/site-packages/sklearn/metrics/_classification.py\u001b[0m in \u001b[0;36m_check_targets\u001b[0;34m(y_true, y_pred)\u001b[0m\n\u001b[1;32m     79\u001b[0m     \u001b[0my_pred\u001b[0m \u001b[0;34m:\u001b[0m \u001b[0marray\u001b[0m \u001b[0;32mor\u001b[0m \u001b[0mindicator\u001b[0m \u001b[0mmatrix\u001b[0m\u001b[0;34m\u001b[0m\u001b[0;34m\u001b[0m\u001b[0m\n\u001b[1;32m     80\u001b[0m     \"\"\"\n\u001b[0;32m---> 81\u001b[0;31m     \u001b[0mcheck_consistent_length\u001b[0m\u001b[0;34m(\u001b[0m\u001b[0my_true\u001b[0m\u001b[0;34m,\u001b[0m \u001b[0my_pred\u001b[0m\u001b[0;34m)\u001b[0m\u001b[0;34m\u001b[0m\u001b[0;34m\u001b[0m\u001b[0m\n\u001b[0m\u001b[1;32m     82\u001b[0m     \u001b[0mtype_true\u001b[0m \u001b[0;34m=\u001b[0m \u001b[0mtype_of_target\u001b[0m\u001b[0;34m(\u001b[0m\u001b[0my_true\u001b[0m\u001b[0;34m)\u001b[0m\u001b[0;34m\u001b[0m\u001b[0;34m\u001b[0m\u001b[0m\n\u001b[1;32m     83\u001b[0m     \u001b[0mtype_pred\u001b[0m \u001b[0;34m=\u001b[0m \u001b[0mtype_of_target\u001b[0m\u001b[0;34m(\u001b[0m\u001b[0my_pred\u001b[0m\u001b[0;34m)\u001b[0m\u001b[0;34m\u001b[0m\u001b[0;34m\u001b[0m\u001b[0m\n",
      "\u001b[0;32m/home/laurier/.local/lib/python3.7/site-packages/sklearn/utils/validation.py\u001b[0m in \u001b[0;36mcheck_consistent_length\u001b[0;34m(*arrays)\u001b[0m\n\u001b[1;32m    254\u001b[0m     \u001b[0;32mif\u001b[0m \u001b[0mlen\u001b[0m\u001b[0;34m(\u001b[0m\u001b[0muniques\u001b[0m\u001b[0;34m)\u001b[0m \u001b[0;34m>\u001b[0m \u001b[0;36m1\u001b[0m\u001b[0;34m:\u001b[0m\u001b[0;34m\u001b[0m\u001b[0;34m\u001b[0m\u001b[0m\n\u001b[1;32m    255\u001b[0m         raise ValueError(\"Found input variables with inconsistent numbers of\"\n\u001b[0;32m--> 256\u001b[0;31m                          \" samples: %r\" % [int(l) for l in lengths])\n\u001b[0m\u001b[1;32m    257\u001b[0m \u001b[0;34m\u001b[0m\u001b[0m\n\u001b[1;32m    258\u001b[0m \u001b[0;34m\u001b[0m\u001b[0m\n",
      "\u001b[0;31mValueError\u001b[0m: Found input variables with inconsistent numbers of samples: [10000, 3000]"
     ]
    }
   ],
   "source": [
    "from sklearn.manifold import MDS\n",
    "from sklearn.metrics import pairwise_distances\n",
    "from sklearn.neighbors import KNeighborsClassifier\n",
    "\n",
    "#instanciation du modèle pour MDS\n",
    "model_euc = MDS(n_components=7, dissimilarity='precomputed')\n",
    "\n",
    "#classification (distance euclididenne)\n",
    "classifier_euc = KNeighborsClassifier(n_neighbors=5)\n",
    "t1_euc = datetime.now()\n",
    "#transformation des données d'entraînement\n",
    "#matrice des distances (euclidiennes directes)\n",
    "distance_matrix_euc_train = pairwise_distances(X_train_temp)\n",
    "out_euc_train = model.fit(distance_matrix_euc_train)\n",
    "\n",
    "#entrainement du classificateur\n",
    "classifier_euc.fit(out_euc_train, Y_train_temp)\n",
    "t2_euc = datetime.now()\n",
    "\n",
    "#transformation des données de test\n",
    "#matrice des distances (euclidiennes entre les moments)\n",
    "distance_matrix_euc_test = pairwise_distances(X_test[:3000])\n",
    "out_euc_test = model.fit(distance_matrix_eux_test)\n",
    "\n",
    "#transformation \n",
    "acc_euc = classifier_euc.score(out_euc_test, Y_test[:3000])\n",
    "\n",
    "#classification (distance des moments)\n",
    "classifier_euc = KNeighborsClassifier(n_neighbors=9)\n",
    "t1_mom = datetime.now()\n",
    "\n",
    "#transformation des données d'\n",
    "distance_matrix_mom = pairwise_distances(X_train_mu[:3000])\n",
    "out_mom = model.transform(distance_matrix_mom)\n",
    "classifier.fit_transform(out_mom, Y_train[:3000])\n",
    "t2.mom = datetime.now()\n",
    "acc_mom = classifier_euc.score(out_mom, Y_test)\n",
    "\n",
    "#temps de calcul\n",
    "dt_euc = (t2_euc-t1_euc)\n",
    "dt_mom = (t2_mom-t1_mom)\n",
    "\n",
    "print(f\"Précision de la classification en utilisant KNN (euclidienne, MDS vers 7 dimensions): {acc_euc}\")\n",
    "print(f\"Précision de la classification en utilisant KNN (distance des moments, MDS vers 7 dimensions): {acc_mom}\")\n",
    "print(f\"Excluant le précalcul, on a sauvé environ {np.round(100*(1-(dt_mom/dt_euc)))}% du temps de calcul, en conservant environ {np.round(100*acc_mom/acc_euc)}% de la précision\")"
   ]
  },
  {
   "cell_type": "markdown",
   "metadata": {},
   "source": [
    "### _Classifcateur Bonus - Perceptron multi-couches (CNN)_\n",
    "Évidemment, on n'appliquera pas ce classificateur sur le jeu de données dans son entièreté. Cependant, il est intéressant de remarquer que l'on peut obtenir une précision de 90% en utilisant seulement 3000 données sur les 60000 disponibles dans le jeu de données.\n",
    "\n",
    "Aussi, il serait évidemment possible de configurer les hyperparamètres de différentes manières, ce qui pourrait potentiellement utiliser , mais les hyperparamètres sélectionnés, coïncidemment, donnaient les résultats les plus raisonnables dans les deux cas."
   ]
  },
  {
   "cell_type": "code",
   "execution_count": null,
   "metadata": {},
   "outputs": [],
   "source": [
    "from sklearn.neural_network import MLPClassifier\n",
    "\n",
    "#instanciation du classificateur (distance euclidienne)\n",
    "classifier = MLPClassifier(solver='adam',\n",
    "                    alpha=1e-5,\n",
    "                    hidden_layer_sizes=(200),\n",
    "                    learning_rate='adaptive',\n",
    "                    learning_rate_init=0.001,\n",
    "                    max_iter=200,\n",
    "                    random_state=4)\n",
    "#entraînement du modèle (distance euclidienne)\n",
    "t1_euc = datetime.now()\n",
    "classifier.fit(X_train[:3000], Y_train[:3000])\n",
    "t2_euc = datetime.now()\n",
    "acc_euc = classifier.score(X_test, Y_test)\n",
    "\n",
    "#instanciation du classificateur(distance des moments)\n",
    "classifier = MLPClassifier(solver='adam',\n",
    "                    alpha=1e-5,\n",
    "                    hidden_layer_sizes=(200),\n",
    "                    learning_rate='adaptive',\n",
    "                    learning_rate_init=0.001,\n",
    "                    max_iter=200,\n",
    "                    random_state=7)\n",
    "\n",
    "t1_mom = datetime.now()\n",
    "#ici, on peut entraîner le modèle sur tout le jeu de données, et ce, bien plus rapidement qu'en utilisant la distance\n",
    "#euclidienne sur seulement 5% du jeu de données !\n",
    "classifier.fit(X_train_mu, Y_train)\n",
    "t2_mom = datetime.now()\n",
    "acc_mom = classifier.score(X_test_mu, Y_test)\n",
    "\n",
    "dt_euc = (t2_euc-t1_euc)\n",
    "dt_mom = (t2_mom-t1_mom)\n",
    "\n",
    "print(f\"Excluant le précalcul, on a sauvé environ {np.round(100*(1-(dt_mom/dt_euc)))}% du temps de calcul, en conservant environ {np.round(100*acc_mom/acc_euc)}% de la précision\")"
   ]
  },
  {
   "cell_type": "markdown",
   "metadata": {},
   "source": [
    "### Analyse - Perceptron multi-couches\n",
    "\n",
    "Clairement, on pourrait argumenter qu'il nest pas convenable de comparer la précision d'un algorithme entrainé sur 60000 données. Cependant, **c'est là la force de la métrique: il a été possible d'entraîner un modèle plus rapidement, en conservant plus de 80% de la précision d'un modèle qui, même en utilisant moins de points de données, prend plusieurs dizaines de minutes à entraîner**.\n",
    "\n",
    "On peut imaginer que, dans l'ère de l'information dans laquelle nous vivons, il existera assurément des situations où la performance de l'analyse des données sera d'une grande importance.\n",
    "\n",
    "**On peut naturellement penser à un système embarqué pour lequel les ressources matérielles sont limitées mais où l'on doit traiter beaucoup de points de données en temps réel.**"
   ]
  },
  {
   "cell_type": "markdown",
   "metadata": {},
   "source": [
    "### Classification en utilisant l'algorithme K-médoïdes\n",
    "\n",
    "\n",
    "L'algorithme des k-médoïdes est un algorithme de partitionnement plus robuste vis-à-vis des données aberrantes que celui des k-moyennes. L'algorithme des k-médoïdes minimise l'erreur quadratique moyenne qui est la distance entre les points de la classe et le point central, qui est un point du jeu de données. On va donc l'appliquer sur nos données "
   ]
  },
  {
   "cell_type": "code",
   "execution_count": null,
   "metadata": {},
   "outputs": [],
   "source": [
    "from multiprocessing import Process\n",
    "from multiprocessing.sharedctypes import Array\n",
    "#from sklearn_extra.cluster import KMedoids\n",
    "from sklearn_extra.cluster import KMedoids\n",
    "from sklearn.metrics import silhouette_score\n",
    "import math\n",
    "\n",
    "def fit_and_silhouette(aX_train, aY_train, aX_test, aY_test, ak):\n",
    "    #classifier = KMedoids(n_clusters=ak, max_iter=10000)\n",
    "    classifier = KMedoids(n_clusters=ak, max_iter=100000)\n",
    "    y_predicted = classifier.fit_predict(aX_train)\n",
    "    return silhouette_score(aX_train, y_predicted)\n",
    "\n",
    "def fit_and_score(aX_train, aY_train, aX_test, aY_test, ak):\n",
    "    classifier = KMedoids(n_clusters=ak, max_iter=1000)\n",
    "    classifier.fit(aX_train)\n",
    "    test_predicted = classifier.predict(aX_test)\n",
    "    medoids_indices = classifier.medoid_indices_\n",
    "    #calcul de la précision\n",
    "    acc = np.mean(np.array([1 if aY_train[medoids_indices[test_predicted[i]]] == aY_test[i] else 0 for i in range(len(aY_test))]))\n",
    "    return acc\n",
    "\n",
    "def classify_KMedoids(aX_train, aY_train, aX_test, aY_test, amin_k, amax_k):\n",
    "    k_range = range(amin_k, amax_k+1)\n",
    "    k_range_np = np.array(k_range)\n",
    "    silhouette_scores = [fit_and_silhouette(aX_train, aY_train, aX_test, aY_test, k) for k in k_range]\n",
    "    return np.array([k_range_np, silhouette_scores])\n",
    "\n",
    "#affiche un graphique avec les \n",
    "def plot_KMedoids_results_return_max_k(aresults, ametric_name):\n",
    "    max_silh_idx = np.argmax(aresults[1])\n",
    "    max_silh_k = int(aresults[0][max_silh_idx])\n",
    "\n",
    "    print(f\"K avec le meilleur score silhouette ({ametric_name}): {max_silh_k}\")\n",
    "\n",
    "    plt.plot(aresults[0], aresults[1])\n",
    "    plt.xlabel('k')\n",
    "    plt.ylabel('Score silhouette')\n",
    "    plt.title('Score silhouette en fonction de k (distance euclidienne)');\n",
    "    plt.show()\n",
    "    return max_silh_k"
   ]
  },
  {
   "cell_type": "code",
   "execution_count": null,
   "metadata": {},
   "outputs": [],
   "source": [
    "resultats_KMedoids_euc = classify_KMedoids(X_train[:3000], Y_train[:3000], X_test, Y_test, 10, 40)\n",
    "resultats_KMedoids_moments = classify_KMedoids(X_train_etaij[:3000], Y_train[:3000], X_test_etaij, Y_test, 10, 40)\n",
    "\n",
    "max_silh_k_euc = plot_KMedoids_results_return_max_k(resultats_KMedoids_euc, \"distance euclidienne\")\n",
    "max_silh_k_mom = plot_KMedoids_results(resultats_KMedoids, \"distance des moments\")\n",
    "\n",
    "t1_euc = datetime.now()\n",
    "acc_euc = fit_and_score(X_train[:3000], Y_train[:3000], X_test, Y_test, max_silh_k_euc)\n",
    "t2_euc = datetime.now()\n",
    "\n",
    "t1_mom = datetime.now()\n",
    "acc_mom = fit_and_score(X_train_mu[:3000], Y_train[:3000], X_test_mu, Y_test, max_silh_k_mom)\n",
    "t2_mom = datetime.now()\n",
    "\n",
    "dt_euc = (t2_euc-t1_euc)\n",
    "dt_mom = (t2_mom-t1_mom)\n",
    "\n",
    "print(f\"Précision de la classification en utilisant le K optimal pour la distance euclidienne: {}\")\n",
    "print(f\"Précision de la classification en utilisant le K optimal pour la distance des moments: {}\")\n",
    "print(f\"Excluant le précalcul, on a sauvé environ {np.round(100*(1-(dt_mom/dt_euc)))}% du temps de calcul, en conservant environ {np.round(100*acc_mom/acc_euc)}% de la précision\")"
   ]
  },
  {
   "cell_type": "markdown",
   "metadata": {},
   "source": [
    "### Visualisation de la répartition des données à l'aide de Isomap\n",
    "On va ici répartir les données en les transformant à l'aide de Isomap, en les faisant passer en 2 dimensions. Cette visualisation des données nous indiquera si la métrique mélange totalement les classes dans notre espace vectoriel, ou si les caractères similaires conservent une similarité et sont affichés près les uns des autres."
   ]
  },
  {
   "cell_type": "code",
   "execution_count": null,
   "metadata": {},
   "outputs": [],
   "source": [
    "from matplotlib import offsetbox\n",
    "from sklearn.manifold import Isomap \n",
    "\n",
    "\n",
    "\n",
    "def plot_components(data, model, images=None, ax=None, thumb_frac=0.07, cmap='gray', title=\"figure\"):\n",
    "    ax = ax or plt.gca()\n",
    "    proj = model.fit_transform(data)\n",
    "    ax.plot(proj[:, 0], proj[:, 1], '.k')\n",
    "    if images is not None:\n",
    "        min_dist_2 = (thumb_frac * max(proj.max(0) - proj.min(0))) ** 2 \n",
    "        shown_images = np.array([2 * proj.max(0)])\n",
    "        for i in range(data.shape[0]):\n",
    "            dist = np.sum((proj[i] - shown_images) ** 2, 1) \n",
    "            if np.min(dist) < min_dist_2:\n",
    "                # don't show points that are too close\n",
    "                continue\n",
    "\n",
    "            shown_images = np.vstack([shown_images, proj[i]])\n",
    "            imagebox = offsetbox.AnnotationBbox(\n",
    "                offsetbox.OffsetImage(images[i], cmap=cmap),\n",
    "                                                  proj[i])\n",
    "            ax.add_artist(imagebox)\n",
    "    plt.title(title)\n",
    "\n",
    "reshaped_X = np.array([X_train[i].reshape(28,28) for i in range(len(X_train))])\n",
    "fig, ax = plt.subplots(figsize=(8, 8))\n",
    "plot_components(X_train[:3000],model=Isomap(n_components=2),images=reshaped_X[:, :, :], title=\"Figure 1: visualisation à l'aide de Isomap, distance euclidienne\")\n",
    "\n",
    "reshaped_X = np.array([X_train[i].reshape(28,28) for i in range(len(X_train))])\n",
    "fig, ax = plt.subplots(figsize=(8, 8))\n",
    "plot_components(X_train_mu[:3000],model=Isomap(n_components=2),images=reshaped_X[:, :, :], title=\"Figure 2: visualisation à l'aide de Isomap, distance des moments\")"
   ]
  },
  {
   "cell_type": "markdown",
   "metadata": {},
   "source": [
    "#### Analyse\n",
    "##### Figure 1\n",
    "On peut voir ici  que les images qui semblent visiblement faire partie de la même classe (c'est-à dire les données que le lecteur peut identifier comme faisant partie de la même classe) sont regroupées ensemble dans le plan en 2D généré.\n",
    "\n",
    "##### Figure 2\n",
    "Dans la Figure 2, on voit notammene que les points sont beaucoup plus dispersés; il suffit de regarder la graduation. On observe aussi une densité beaucoup moins uniforme que dans la figure qui précède, avec beaucoup plus de points situés près de l'origine du graphique (relativement à la distribution). Ce phénomène est fort probablement dû à la nature de la métrique.\n",
    "\n",
    "Cette métrique, essentiellement, effectue une réduction de dimensionnalité (celle de convertir la matrice de chaque point de données $X$ en un vecteur de $\\mu_{ij}$ de taille $n$ = 7). Cette réduction de dimensionnalité ne conserve pas nécessairement les distances euclidiennes d'un espace vectoriel à l'autre, ce qui peut expliquer la proximité des points les uns aux autres lorsque l'on s'approche de l'origine dans la Figure 2.\n",
    "\n",
    "Cependant, dans la figure 2, on peut tout de même voir que les images qui semblent visiblement faire partie de la même classe sont situées relativement près les unes des autres sur le graphique. Entra autres, on voit que les 2 sont presque sous regroupés vers la droite, les 3 en haut, etc."
   ]
  },
  {
   "cell_type": "markdown",
   "metadata": {},
   "source": [
    "### Analyse (PCoA)\n"
   ]
  },
  {
   "cell_type": "code",
   "execution_count": null,
   "metadata": {},
   "outputs": [],
   "source": [
    "from loaders import Mnist\n",
    "from sklearn.manifold import MDS\n",
    "from sklearn.metrics.pairwise import euclidean_distances\n",
    "\n",
    "x, y = Mnist().train\n",
    "def show_mnist(vec, vmin=None, vmax=None):\n",
    "    plt.imshow(vec.reshape(28,28), cmap='gray', vmin=vmin, vmax=vmax)\n",
    "    plt.axis('off')\n",
    "    plt.show()\n",
    "    \n",
    "def Classify_PCoA(X_train, Y_train):\n",
    "    cov = np.cov(X_train.T)\n",
    "    c, v = np.linalg.eigh(cov)\n",
    "    w = np.linalg.inv(v)\n",
    "    return v[:,-Y_train:], w[-Y_train:]\n",
    "\n",
    "\n",
    "    \n",
    "def PCoA_distance_edi () :             \n",
    "    \n",
    "    MatrixSimi = pCoA.fit(Y_train)\n",
    "    edition_PCoA = MDS(dissimilarity='precomputed')\n",
    "    positions_custom = edition_PcoA.fit(MatrixSimi)\n",
    "    positions_c = positions_custom.embedding_\n",
    "    fig = plt.figure(1)\n",
    "    plt.scatter(positions_c[:, 0], positions_c[:, 1], color='darkorange', s=5, label='Distance Edition Personalisée')\n",
    "    plt.show()\n",
    "    \n",
    "def PCoA_Euclidienne () :             \n",
    "    \n",
    "    MatrixDeucli = euclidean_distances(X_train)\n",
    "    pCoA = MDS(dissimilarity='precomputed')\n",
    "    euclidean_p = pCoA.fit(Y_train)\n",
    "    positions_e = euclidean_p.embedding_\n",
    "    fig = plt.figure(4)\n",
    "    plt.scatter(positions_e[:, 1], positions_e[:, 3], color='gris', s=5, label='Distance Euclidienne')\n",
    "    plt.show()\n",
    "    fig = plt.figure(1)\n",
    "\n",
    "    \n",
    "    \n",
    "def PCoA_Euclidienne2 () :             \n",
    "    \n",
    "    MatrixDeucli = euclidean_distances(X_train)\n",
    "    mds_euclidean = MDS()\n",
    "    position_PcoA_euclidiean= mds_euclidean.fit( MatrixDeucli )\n",
    "    position_e_PcoA = position_PcoA_euclidiean.embedding_\n",
    "    fig = plt.figure(5)\n",
    "    plt.scatter(position_e_mds[:, 0], position_e_mds[:, 1], color='blue', s=5, label='Distance Euclidienne MDS')\n",
    "    plt.show()\n"
   ]
  },
  {
   "cell_type": "code",
   "execution_count": null,
   "metadata": {},
   "outputs": [],
   "source": []
  }
 ],
 "metadata": {
  "kernelspec": {
   "display_name": "Python 3",
   "language": "python",
   "name": "python3"
  },
  "language_info": {
   "codemirror_mode": {
    "name": "ipython",
    "version": 3
   },
   "file_extension": ".py",
   "mimetype": "text/x-python",
   "name": "python",
   "nbconvert_exporter": "python",
   "pygments_lexer": "ipython3",
   "version": "3.7.3"
  }
 },
 "nbformat": 4,
 "nbformat_minor": 2
}
