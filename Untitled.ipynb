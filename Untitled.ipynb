{
 "cells": [
  {
   "cell_type": "markdown",
   "metadata": {},
   "source": [
    "# Travail pratique - 1 - IFT 3700\n",
    "# Fait par : \n",
    "Rym bach \n",
    "\n",
    "Laurier "
   ]
  },
  {
   "cell_type": "code",
   "execution_count": null,
   "metadata": {},
   "outputs": [],
   "source": [
    "%matplotlib inline\n",
    "\n",
    "from sklearn.cluster import KMeans\n",
    "from sklearn.datasets import make_blobs\n",
    "from sklearn.metrics.pairwise import euclidean_distances\n",
    "import csv\n",
    "\n",
    "with open('mnist.csv') as traindeD:\n",
    "    \n",
    "    Xndonnees = []\n",
    "    fichier = csv.reader(traindeD)\n",
    "\n",
    "    for row in fichier:\n",
    "        Xndonnees.append(row)\n",
    "\n",
    "    # pop out first line, the \"labels\" of our columns\n",
    "    Xndonnees.pop(0)\n",
    "    \n",
    "\n",
    "with open('mnistT.csv') as testD:\n",
    "    \n",
    "    Xndonneestest = []\n",
    "    fichier = csv.reader(testD)\n",
    "    \n",
    "\n",
    "    for row in fichier:\n",
    "        Xndonneestest.append(row)\n",
    "\n",
    "    # pop out first line, the \"labels\" of our columns\n",
    "     Xndonneestest.pop(0)\n",
    "\n",
    "# Load les labels dans labels[]\n",
    "labels = []    \n",
    "\n",
    "\n",
    "    "
   ]
  },
  {
   "cell_type": "code",
   "execution_count": null,
   "metadata": {},
   "outputs": [],
   "source": []
  },
  {
   "cell_type": "code",
   "execution_count": null,
   "metadata": {},
   "outputs": [],
   "source": []
  },
  {
   "cell_type": "code",
   "execution_count": null,
   "metadata": {},
   "outputs": [],
   "source": []
  },
  {
   "cell_type": "code",
   "execution_count": null,
   "metadata": {},
   "outputs": [],
   "source": []
  }
 ],
 "metadata": {
  "kernelspec": {
   "display_name": "Python 3",
   "language": "python",
   "name": "python3"
  },
  "language_info": {
   "codemirror_mode": {
    "name": "ipython",
    "version": 3
   },
   "file_extension": ".py",
   "mimetype": "text/x-python",
   "name": "python",
   "nbconvert_exporter": "python",
   "pygments_lexer": "ipython3",
   "version": "3.7.6"
  }
 },
 "nbformat": 4,
 "nbformat_minor": 4
}
